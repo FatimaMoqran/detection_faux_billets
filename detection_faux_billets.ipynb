{
 "cells": [
  {
   "cell_type": "markdown",
   "id": "44b7e09f",
   "metadata": {},
   "source": [
    "# Detection de faux billets "
   ]
  },
  {
   "cell_type": "markdown",
   "id": "114d4a9e",
   "metadata": {},
   "source": [
    "## 1 ANALYSES DES DONNÉES UNIVARIEE ET BIVARIEE"
   ]
  },
  {
   "cell_type": "code",
   "execution_count": 1,
   "id": "4916e11b",
   "metadata": {},
   "outputs": [],
   "source": [
    "#importation des librairies \n",
    "import pandas as pd\n",
    "import matplotlib.pyplot as plt\n",
    "import seaborn as sns\n"
   ]
  },
  {
   "cell_type": "code",
   "execution_count": 2,
   "id": "97edb1f7",
   "metadata": {},
   "outputs": [],
   "source": [
    "df = pd.read_csv('notes.csv')"
   ]
  },
  {
   "cell_type": "code",
   "execution_count": 3,
   "id": "d9c1b4e4",
   "metadata": {},
   "outputs": [
    {
     "data": {
      "text/html": [
       "<div>\n",
       "<style scoped>\n",
       "    .dataframe tbody tr th:only-of-type {\n",
       "        vertical-align: middle;\n",
       "    }\n",
       "\n",
       "    .dataframe tbody tr th {\n",
       "        vertical-align: top;\n",
       "    }\n",
       "\n",
       "    .dataframe thead th {\n",
       "        text-align: right;\n",
       "    }\n",
       "</style>\n",
       "<table border=\"1\" class=\"dataframe\">\n",
       "  <thead>\n",
       "    <tr style=\"text-align: right;\">\n",
       "      <th></th>\n",
       "      <th>is_genuine</th>\n",
       "      <th>diagonal</th>\n",
       "      <th>height_left</th>\n",
       "      <th>height_right</th>\n",
       "      <th>margin_low</th>\n",
       "      <th>margin_up</th>\n",
       "      <th>length</th>\n",
       "    </tr>\n",
       "  </thead>\n",
       "  <tbody>\n",
       "    <tr>\n",
       "      <th>0</th>\n",
       "      <td>True</td>\n",
       "      <td>171.81</td>\n",
       "      <td>104.86</td>\n",
       "      <td>104.95</td>\n",
       "      <td>4.52</td>\n",
       "      <td>2.89</td>\n",
       "      <td>112.83</td>\n",
       "    </tr>\n",
       "    <tr>\n",
       "      <th>1</th>\n",
       "      <td>True</td>\n",
       "      <td>171.67</td>\n",
       "      <td>103.74</td>\n",
       "      <td>103.70</td>\n",
       "      <td>4.01</td>\n",
       "      <td>2.87</td>\n",
       "      <td>113.29</td>\n",
       "    </tr>\n",
       "    <tr>\n",
       "      <th>2</th>\n",
       "      <td>True</td>\n",
       "      <td>171.83</td>\n",
       "      <td>103.76</td>\n",
       "      <td>103.76</td>\n",
       "      <td>4.40</td>\n",
       "      <td>2.88</td>\n",
       "      <td>113.84</td>\n",
       "    </tr>\n",
       "    <tr>\n",
       "      <th>3</th>\n",
       "      <td>True</td>\n",
       "      <td>171.80</td>\n",
       "      <td>103.78</td>\n",
       "      <td>103.65</td>\n",
       "      <td>3.73</td>\n",
       "      <td>3.12</td>\n",
       "      <td>113.63</td>\n",
       "    </tr>\n",
       "    <tr>\n",
       "      <th>4</th>\n",
       "      <td>True</td>\n",
       "      <td>172.05</td>\n",
       "      <td>103.70</td>\n",
       "      <td>103.75</td>\n",
       "      <td>5.04</td>\n",
       "      <td>2.27</td>\n",
       "      <td>113.55</td>\n",
       "    </tr>\n",
       "  </tbody>\n",
       "</table>\n",
       "</div>"
      ],
      "text/plain": [
       "   is_genuine  diagonal  height_left  height_right  margin_low  margin_up  \\\n",
       "0        True    171.81       104.86        104.95        4.52       2.89   \n",
       "1        True    171.67       103.74        103.70        4.01       2.87   \n",
       "2        True    171.83       103.76        103.76        4.40       2.88   \n",
       "3        True    171.80       103.78        103.65        3.73       3.12   \n",
       "4        True    172.05       103.70        103.75        5.04       2.27   \n",
       "\n",
       "   length  \n",
       "0  112.83  \n",
       "1  113.29  \n",
       "2  113.84  \n",
       "3  113.63  \n",
       "4  113.55  "
      ]
     },
     "execution_count": 3,
     "metadata": {},
     "output_type": "execute_result"
    }
   ],
   "source": [
    "df.head()"
   ]
  },
  {
   "cell_type": "code",
   "execution_count": 4,
   "id": "e4d3057a",
   "metadata": {},
   "outputs": [
    {
     "data": {
      "text/html": [
       "<div>\n",
       "<style scoped>\n",
       "    .dataframe tbody tr th:only-of-type {\n",
       "        vertical-align: middle;\n",
       "    }\n",
       "\n",
       "    .dataframe tbody tr th {\n",
       "        vertical-align: top;\n",
       "    }\n",
       "\n",
       "    .dataframe thead th {\n",
       "        text-align: right;\n",
       "    }\n",
       "</style>\n",
       "<table border=\"1\" class=\"dataframe\">\n",
       "  <thead>\n",
       "    <tr style=\"text-align: right;\">\n",
       "      <th></th>\n",
       "      <th>is_genuine</th>\n",
       "      <th>diagonal</th>\n",
       "      <th>height_left</th>\n",
       "      <th>height_right</th>\n",
       "      <th>margin_low</th>\n",
       "      <th>margin_up</th>\n",
       "      <th>length</th>\n",
       "    </tr>\n",
       "  </thead>\n",
       "  <tbody>\n",
       "    <tr>\n",
       "      <th>165</th>\n",
       "      <td>False</td>\n",
       "      <td>172.11</td>\n",
       "      <td>104.23</td>\n",
       "      <td>104.45</td>\n",
       "      <td>5.24</td>\n",
       "      <td>3.58</td>\n",
       "      <td>111.78</td>\n",
       "    </tr>\n",
       "    <tr>\n",
       "      <th>166</th>\n",
       "      <td>False</td>\n",
       "      <td>173.01</td>\n",
       "      <td>104.59</td>\n",
       "      <td>104.31</td>\n",
       "      <td>5.04</td>\n",
       "      <td>3.05</td>\n",
       "      <td>110.91</td>\n",
       "    </tr>\n",
       "    <tr>\n",
       "      <th>167</th>\n",
       "      <td>False</td>\n",
       "      <td>172.47</td>\n",
       "      <td>104.27</td>\n",
       "      <td>104.10</td>\n",
       "      <td>4.88</td>\n",
       "      <td>3.33</td>\n",
       "      <td>110.68</td>\n",
       "    </tr>\n",
       "    <tr>\n",
       "      <th>168</th>\n",
       "      <td>False</td>\n",
       "      <td>171.82</td>\n",
       "      <td>103.97</td>\n",
       "      <td>103.88</td>\n",
       "      <td>4.73</td>\n",
       "      <td>3.55</td>\n",
       "      <td>111.87</td>\n",
       "    </tr>\n",
       "    <tr>\n",
       "      <th>169</th>\n",
       "      <td>False</td>\n",
       "      <td>171.96</td>\n",
       "      <td>104.00</td>\n",
       "      <td>103.95</td>\n",
       "      <td>5.63</td>\n",
       "      <td>3.26</td>\n",
       "      <td>110.96</td>\n",
       "    </tr>\n",
       "  </tbody>\n",
       "</table>\n",
       "</div>"
      ],
      "text/plain": [
       "     is_genuine  diagonal  height_left  height_right  margin_low  margin_up  \\\n",
       "165       False    172.11       104.23        104.45        5.24       3.58   \n",
       "166       False    173.01       104.59        104.31        5.04       3.05   \n",
       "167       False    172.47       104.27        104.10        4.88       3.33   \n",
       "168       False    171.82       103.97        103.88        4.73       3.55   \n",
       "169       False    171.96       104.00        103.95        5.63       3.26   \n",
       "\n",
       "     length  \n",
       "165  111.78  \n",
       "166  110.91  \n",
       "167  110.68  \n",
       "168  111.87  \n",
       "169  110.96  "
      ]
     },
     "execution_count": 4,
     "metadata": {},
     "output_type": "execute_result"
    }
   ],
   "source": [
    "df.tail()"
   ]
  },
  {
   "cell_type": "markdown",
   "id": "f746f21f",
   "metadata": {},
   "source": [
    "## Mission 0\n",
    "\n",
    "Afin d'introduire votre analyse, effectuez une brève description des données (analyses univariées et bivariées)."
   ]
  },
  {
   "cell_type": "markdown",
   "id": "0b1ede84",
   "metadata": {},
   "source": [
    "## Analyse Univariée"
   ]
  },
  {
   "cell_type": "code",
   "execution_count": 21,
   "id": "2790d932",
   "metadata": {},
   "outputs": [
    {
     "data": {
      "text/plain": [
       "is_genuine      0\n",
       "diagonal        0\n",
       "height_left     0\n",
       "height_right    0\n",
       "margin_low      0\n",
       "margin_up       0\n",
       "length          0\n",
       "dtype: int64"
      ]
     },
     "execution_count": 21,
     "metadata": {},
     "output_type": "execute_result"
    }
   ],
   "source": [
    "\n",
    "# check les missing data\n",
    "df.isnull().sum()"
   ]
  },
  {
   "cell_type": "code",
   "execution_count": 87,
   "id": "8dd0b066",
   "metadata": {},
   "outputs": [
    {
     "data": {
      "text/plain": [
       "True     100\n",
       "False     70\n",
       "Name: is_genuine, dtype: int64"
      ]
     },
     "execution_count": 87,
     "metadata": {},
     "output_type": "execute_result"
    }
   ],
   "source": [
    "# visualisation variable is_genuine\n",
    "df['is_genuine'].value_counts()\n"
   ]
  },
  {
   "cell_type": "code",
   "execution_count": 7,
   "id": "9de09c6a",
   "metadata": {},
   "outputs": [
    {
     "data": {
      "image/png": "[encoded data removed]",
      "text/plain": [
       "<Figure size 1080x720 with 1 Axes>"
      ]
     },
     "metadata": {
      "needs_background": "light"
     },
     "output_type": "display_data"
    }
   ],
   "source": [
    "plt.figure(figsize=(15,10))\n",
    "vraifauxhist = sns.countplot(x=\"is_genuine\", data = df, palette = 'hls')\n",
    "plt.title('nombre de faux billets et de vrai billets')\n",
    "vraifauxhist= vraifauxhist.get_figure()\n",
    "vraifauxhist.savefig('nombre de faux billets et de vrai billets')"
   ]
  },
  {
   "cell_type": "code",
   "execution_count": 115,
   "id": "977ac2c2",
   "metadata": {},
   "outputs": [
    {
     "data": {
      "text/html": [
       "<div>\n",
       "<style scoped>\n",
       "    .dataframe tbody tr th:only-of-type {\n",
       "        vertical-align: middle;\n",
       "    }\n",
       "\n",
       "    .dataframe tbody tr th {\n",
       "        vertical-align: top;\n",
       "    }\n",
       "\n",
       "    .dataframe thead tr th {\n",
       "        text-align: left;\n",
       "    }\n",
       "\n",
       "    .dataframe thead tr:last-of-type th {\n",
       "        text-align: right;\n",
       "    }\n",
       "</style>\n",
       "<table border=\"1\" class=\"dataframe\">\n",
       "  <thead>\n",
       "    <tr>\n",
       "      <th></th>\n",
       "      <th colspan=\"2\" halign=\"left\">diagonal</th>\n",
       "      <th colspan=\"2\" halign=\"left\">height_left</th>\n",
       "      <th colspan=\"2\" halign=\"left\">height_right</th>\n",
       "      <th colspan=\"2\" halign=\"left\">margin_low</th>\n",
       "      <th colspan=\"2\" halign=\"left\">margin_up</th>\n",
       "      <th colspan=\"2\" halign=\"left\">length</th>\n",
       "    </tr>\n",
       "    <tr>\n",
       "      <th></th>\n",
       "      <th>mean</th>\n",
       "      <th>std</th>\n",
       "      <th>mean</th>\n",
       "      <th>std</th>\n",
       "      <th>mean</th>\n",
       "      <th>std</th>\n",
       "      <th>mean</th>\n",
       "      <th>std</th>\n",
       "      <th>mean</th>\n",
       "      <th>std</th>\n",
       "      <th>mean</th>\n",
       "      <th>std</th>\n",
       "    </tr>\n",
       "    <tr>\n",
       "      <th>is_genuine</th>\n",
       "      <th></th>\n",
       "      <th></th>\n",
       "      <th></th>\n",
       "      <th></th>\n",
       "      <th></th>\n",
       "      <th></th>\n",
       "      <th></th>\n",
       "      <th></th>\n",
       "      <th></th>\n",
       "      <th></th>\n",
       "      <th></th>\n",
       "      <th></th>\n",
       "    </tr>\n",
       "  </thead>\n",
       "  <tbody>\n",
       "    <tr>\n",
       "      <th>0</th>\n",
       "      <td>171.889857</td>\n",
       "      <td>0.297426</td>\n",
       "      <td>104.230429</td>\n",
       "      <td>0.213130</td>\n",
       "      <td>104.145571</td>\n",
       "      <td>0.253152</td>\n",
       "      <td>5.281571</td>\n",
       "      <td>0.540846</td>\n",
       "      <td>3.334571</td>\n",
       "      <td>0.185102</td>\n",
       "      <td>111.660714</td>\n",
       "      <td>0.676931</td>\n",
       "    </tr>\n",
       "    <tr>\n",
       "      <th>1</th>\n",
       "      <td>171.976100</td>\n",
       "      <td>0.307981</td>\n",
       "      <td>103.951500</td>\n",
       "      <td>0.296251</td>\n",
       "      <td>103.775900</td>\n",
       "      <td>0.292406</td>\n",
       "      <td>4.143500</td>\n",
       "      <td>0.314509</td>\n",
       "      <td>3.055500</td>\n",
       "      <td>0.197726</td>\n",
       "      <td>113.207200</td>\n",
       "      <td>0.380476</td>\n",
       "    </tr>\n",
       "  </tbody>\n",
       "</table>\n",
       "</div>"
      ],
      "text/plain": [
       "              diagonal           height_left           height_right            \\\n",
       "                  mean       std        mean       std         mean       std   \n",
       "is_genuine                                                                      \n",
       "0           171.889857  0.297426  104.230429  0.213130   104.145571  0.253152   \n",
       "1           171.976100  0.307981  103.951500  0.296251   103.775900  0.292406   \n",
       "\n",
       "           margin_low           margin_up                length            \n",
       "                 mean       std      mean       std        mean       std  \n",
       "is_genuine                                                                 \n",
       "0            5.281571  0.540846  3.334571  0.185102  111.660714  0.676931  \n",
       "1            4.143500  0.314509  3.055500  0.197726  113.207200  0.380476  "
      ]
     },
     "execution_count": 115,
     "metadata": {},
     "output_type": "execute_result"
    }
   ],
   "source": [
    "#regarde la moyenne des variables \n",
    "df.groupby('is_genuine').agg(['mean','std'])"
   ]
  },
  {
   "cell_type": "code",
   "execution_count": 9,
   "id": "e3db5a33",
   "metadata": {},
   "outputs": [
    {
     "data": {
      "image/png": "[encoded data removed]",
      "text/plain": [
       "<Figure size 1080x720 with 1 Axes>"
      ]
     },
     "metadata": {
      "needs_background": "light"
     },
     "output_type": "display_data"
    }
   ],
   "source": [
    "# les valeurs aberrantes pour la variable diagonal\n",
    "import seaborn as sns\n",
    "plt.figure(figsize=(15,10))\n",
    "price_boxplot = sns.boxplot(x= df['diagonal'])\n",
    "\n",
    "plt.title('distribution de la variable diagonal')\n",
    "fig_boxplot_price = price_boxplot.get_figure()\n",
    "fig_boxplot_price.savefig('distribution de la variable diagonal')"
   ]
  },
  {
   "cell_type": "code",
   "execution_count": 91,
   "id": "e007ee19",
   "metadata": {},
   "outputs": [
    {
     "data": {
      "text/plain": [
       "count    170.000000\n",
       "mean     171.940588\n",
       "std        0.305768\n",
       "min      171.040000\n",
       "25%      171.730000\n",
       "50%      171.945000\n",
       "75%      172.137500\n",
       "max      173.010000\n",
       "Name: diagonal, dtype: float64"
      ]
     },
     "execution_count": 91,
     "metadata": {},
     "output_type": "execute_result"
    }
   ],
   "source": [
    "#description variable diagonal \n",
    "df['diagonal'].describe()"
   ]
  },
  {
   "cell_type": "code",
   "execution_count": 10,
   "id": "e314989e",
   "metadata": {},
   "outputs": [
    {
     "data": {
      "image/png": "[encoded data removed]",
      "text/plain": [
       "<Figure size 1080x720 with 1 Axes>"
      ]
     },
     "metadata": {
      "needs_background": "light"
     },
     "output_type": "display_data"
    }
   ],
   "source": [
    "# les valeurs aberrantes pour la variable heightleft\n",
    "plt.figure(figsize=(15,10))\n",
    "price_boxplot = sns.boxplot(x= df['height_left'])\n",
    "\n",
    "plt.title('distribution de la variable height_left')\n",
    "fig_boxplot_price = price_boxplot.get_figure()\n",
    "fig_boxplot_price.savefig('distribution de la height_left')"
   ]
  },
  {
   "cell_type": "code",
   "execution_count": 11,
   "id": "584dcaad",
   "metadata": {},
   "outputs": [
    {
     "data": {
      "text/plain": [
       "count    170.000000\n",
       "mean     104.066353\n",
       "std        0.298185\n",
       "min      103.230000\n",
       "25%      103.842500\n",
       "50%      104.055000\n",
       "75%      104.287500\n",
       "max      104.860000\n",
       "Name: height_left, dtype: float64"
      ]
     },
     "execution_count": 11,
     "metadata": {},
     "output_type": "execute_result"
    }
   ],
   "source": [
    "#description variable height_left\n",
    "df['height_left'].describe()"
   ]
  },
  {
   "cell_type": "code",
   "execution_count": 12,
   "id": "a00fcd24",
   "metadata": {},
   "outputs": [
    {
     "data": {
      "image/png": "[encoded data removed]",
      "text/plain": [
       "<Figure size 1080x720 with 1 Axes>"
      ]
     },
     "metadata": {
      "needs_background": "light"
     },
     "output_type": "display_data"
    }
   ],
   "source": [
    "# distribution pour la variable heightright\n",
    "plt.figure(figsize=(15,10))\n",
    "price_boxplot = sns.boxplot(x= df['height_right'])\n",
    "\n",
    "plt.title('distribution de la variable height_right')\n",
    "fig_boxplot_price = price_boxplot.get_figure()\n",
    "fig_boxplot_price.savefig('distribution de la variable height_right')"
   ]
  },
  {
   "cell_type": "code",
   "execution_count": 13,
   "id": "f64b3194",
   "metadata": {},
   "outputs": [
    {
     "data": {
      "text/plain": [
       "count    170.000000\n",
       "mean     103.928118\n",
       "std        0.330980\n",
       "min      103.140000\n",
       "25%      103.690000\n",
       "50%      103.950000\n",
       "75%      104.170000\n",
       "max      104.950000\n",
       "Name: height_right, dtype: float64"
      ]
     },
     "execution_count": 13,
     "metadata": {},
     "output_type": "execute_result"
    }
   ],
   "source": [
    "#description variable height_right\n",
    "df['height_right'].describe()"
   ]
  },
  {
   "cell_type": "code",
   "execution_count": 14,
   "id": "98f0f4ef",
   "metadata": {},
   "outputs": [
    {
     "data": {
      "text/plain": [
       "count    170.000000\n",
       "mean       4.612118\n",
       "std        0.702103\n",
       "min        3.540000\n",
       "25%        4.050000\n",
       "50%        4.450000\n",
       "75%        5.127500\n",
       "max        6.280000\n",
       "Name: margin_low, dtype: float64"
      ]
     },
     "execution_count": 14,
     "metadata": {},
     "output_type": "execute_result"
    }
   ],
   "source": [
    "#description variable margin_low'\n",
    "df['margin_low'].describe()"
   ]
  },
  {
   "cell_type": "code",
   "execution_count": 15,
   "id": "2b634ec2",
   "metadata": {},
   "outputs": [
    {
     "data": {
      "image/png": "[encoded data removed]",
      "text/plain": [
       "<Figure size 1080x720 with 1 Axes>"
      ]
     },
     "metadata": {
      "needs_background": "light"
     },
     "output_type": "display_data"
    }
   ],
   "source": [
    "# distribution pour la variable margin_low\n",
    "plt.figure(figsize=(15,10))\n",
    "price_boxplot = sns.boxplot(x= df['margin_low'])\n",
    "\n",
    "plt.title('distribution de la variable margin_low')\n",
    "fig_boxplot_price = price_boxplot.get_figure()\n",
    "fig_boxplot_price.savefig('distribution de la variable margin_low')"
   ]
  },
  {
   "cell_type": "code",
   "execution_count": 16,
   "id": "05ecff25",
   "metadata": {},
   "outputs": [
    {
     "data": {
      "image/png": "[encoded data removed]",
      "text/plain": [
       "<Figure size 1080x720 with 1 Axes>"
      ]
     },
     "metadata": {
      "needs_background": "light"
     },
     "output_type": "display_data"
    }
   ],
   "source": [
    "# distribution pour la variable margin_up\n",
    "plt.figure(figsize=(15,10))\n",
    "price_boxplot = sns.boxplot(x= df['margin_up'])\n",
    "\n",
    "plt.title('distribution de la variable margin_up')\n",
    "fig_boxplot_price = price_boxplot.get_figure()\n",
    "fig_boxplot_price.savefig('distribution de la variable margin_up')"
   ]
  },
  {
   "cell_type": "code",
   "execution_count": 18,
   "id": "e968456d",
   "metadata": {},
   "outputs": [
    {
     "data": {
      "text/plain": [
       "count    170.000000\n",
       "mean       3.170412\n",
       "std        0.236361\n",
       "min        2.270000\n",
       "25%        3.012500\n",
       "50%        3.170000\n",
       "75%        3.330000\n",
       "max        3.680000\n",
       "Name: margin_up, dtype: float64"
      ]
     },
     "execution_count": 18,
     "metadata": {},
     "output_type": "execute_result"
    }
   ],
   "source": [
    "#description variable margin_up\n",
    "df['margin_up'].describe()"
   ]
  },
  {
   "cell_type": "code",
   "execution_count": 19,
   "id": "ead7f5af",
   "metadata": {},
   "outputs": [
    {
     "data": {
      "text/plain": [
       "count    170.000000\n",
       "mean     112.570412\n",
       "std        0.924448\n",
       "min      109.970000\n",
       "25%      111.855000\n",
       "50%      112.845000\n",
       "75%      113.287500\n",
       "max      113.980000\n",
       "Name: length, dtype: float64"
      ]
     },
     "execution_count": 19,
     "metadata": {},
     "output_type": "execute_result"
    }
   ],
   "source": [
    "#description variable length\n",
    "df['length'].describe()"
   ]
  },
  {
   "cell_type": "code",
   "execution_count": 20,
   "id": "93d855f7",
   "metadata": {},
   "outputs": [
    {
     "data": {
      "image/png": "[encoded data removed]",
      "text/plain": [
       "<Figure size 1080x720 with 1 Axes>"
      ]
     },
     "metadata": {
      "needs_background": "light"
     },
     "output_type": "display_data"
    }
   ],
   "source": [
    "# distribution pour la variable length\n",
    "plt.figure(figsize=(15,10))\n",
    "price_boxplot = sns.boxplot(x= df['length'])\n",
    "\n",
    "plt.title('distribution de la variable length')\n",
    "fig_boxplot_price = price_boxplot.get_figure()\n",
    "fig_boxplot_price.savefig('distribution de la variable length')"
   ]
  },
  {
   "cell_type": "code",
   "execution_count": 102,
   "id": "0f7f3f92",
   "metadata": {},
   "outputs": [
    {
     "data": {
      "text/plain": [
       "Index(['is_genuine', 'diagonal', 'height_left', 'height_right', 'margin_low',\n",
       "       'margin_up', 'length'],\n",
       "      dtype='object')"
      ]
     },
     "execution_count": 102,
     "metadata": {},
     "output_type": "execute_result"
    }
   ],
   "source": [
    "df.columns"
   ]
  },
  {
   "cell_type": "markdown",
   "id": "7e461e9b",
   "metadata": {},
   "source": [
    "### analyse Bivariée"
   ]
  },
  {
   "cell_type": "code",
   "execution_count": 22,
   "id": "d622eab1",
   "metadata": {},
   "outputs": [
    {
     "data": {
      "text/html": [
       "<div>\n",
       "<style scoped>\n",
       "    .dataframe tbody tr th:only-of-type {\n",
       "        vertical-align: middle;\n",
       "    }\n",
       "\n",
       "    .dataframe tbody tr th {\n",
       "        vertical-align: top;\n",
       "    }\n",
       "\n",
       "    .dataframe thead th {\n",
       "        text-align: right;\n",
       "    }\n",
       "</style>\n",
       "<table border=\"1\" class=\"dataframe\">\n",
       "  <thead>\n",
       "    <tr style=\"text-align: right;\">\n",
       "      <th></th>\n",
       "      <th>is_genuine</th>\n",
       "      <th>count</th>\n",
       "      <th>mean</th>\n",
       "      <th>std</th>\n",
       "      <th>min</th>\n",
       "      <th>25%</th>\n",
       "      <th>50%</th>\n",
       "      <th>75%</th>\n",
       "      <th>max</th>\n",
       "    </tr>\n",
       "  </thead>\n",
       "  <tbody>\n",
       "    <tr>\n",
       "      <th>0</th>\n",
       "      <td>False</td>\n",
       "      <td>70.0</td>\n",
       "      <td>171.889857</td>\n",
       "      <td>0.297426</td>\n",
       "      <td>171.38</td>\n",
       "      <td>171.6825</td>\n",
       "      <td>171.875</td>\n",
       "      <td>172.0475</td>\n",
       "      <td>173.01</td>\n",
       "    </tr>\n",
       "    <tr>\n",
       "      <th>1</th>\n",
       "      <td>True</td>\n",
       "      <td>100.0</td>\n",
       "      <td>171.976100</td>\n",
       "      <td>0.307981</td>\n",
       "      <td>171.04</td>\n",
       "      <td>171.7900</td>\n",
       "      <td>172.005</td>\n",
       "      <td>172.1625</td>\n",
       "      <td>172.75</td>\n",
       "    </tr>\n",
       "  </tbody>\n",
       "</table>\n",
       "</div>"
      ],
      "text/plain": [
       "   is_genuine  count        mean       std     min       25%      50%  \\\n",
       "0       False   70.0  171.889857  0.297426  171.38  171.6825  171.875   \n",
       "1        True  100.0  171.976100  0.307981  171.04  171.7900  172.005   \n",
       "\n",
       "        75%     max  \n",
       "0  172.0475  173.01  \n",
       "1  172.1625  172.75  "
      ]
     },
     "execution_count": 22,
     "metadata": {},
     "output_type": "execute_result"
    }
   ],
   "source": [
    "# Analyse bivariée entre vrai/faux billet et la diagonale \n",
    "df.groupby(['is_genuine'])['diagonal'].describe().reset_index()"
   ]
  },
  {
   "cell_type": "code",
   "execution_count": 23,
   "id": "79333431",
   "metadata": {},
   "outputs": [],
   "source": [
    "#diagonales en fonction que le billet soit vrai ou faux\n",
    "billetF = df[df['is_genuine']==False]\n",
    "billetV = df[df['is_genuine']==True]"
   ]
  },
  {
   "cell_type": "code",
   "execution_count": 24,
   "id": "f7b8f3d7",
   "metadata": {},
   "outputs": [],
   "source": [
    "diagonaleF = billetF['diagonal']\n",
    "diagonaleV = billetV['diagonal']"
   ]
  },
  {
   "cell_type": "code",
   "execution_count": 25,
   "id": "0b201304",
   "metadata": {},
   "outputs": [
    {
     "data": {
      "image/png": "[encoded data removed]",
      "text/plain": [
       "<Figure size 1080x720 with 1 Axes>"
      ]
     },
     "metadata": {
      "needs_background": "light"
     },
     "output_type": "display_data"
    }
   ],
   "source": [
    "#distribution de la variable diagonale en fonction que le billet soit vrai ou pas.\n",
    "columns = [diagonaleF,diagonaleV]\n",
    "plt.figure(figsize=(15, 10))\n",
    "#plt.subplots()\n",
    "plt.boxplot(columns)\n",
    "plt.xticks([1, 2], [\"diagonaleF\", \"diagonaleV\"], rotation=10)\n",
    "plt.ylabel('diagonales billets')\n",
    "plt.title(\"diagonales billets en fonction qu'ils soient vrais ou faux\")\n",
    "plt.savefig(\"diagonales billets en fonction qu'ils soient vrais ou faux \")\n",
    "plt.show()\n"
   ]
  },
  {
   "cell_type": "code",
   "execution_count": 27,
   "id": "d3a39186",
   "metadata": {},
   "outputs": [
    {
     "data": {
      "text/html": [
       "<div>\n",
       "<style scoped>\n",
       "    .dataframe tbody tr th:only-of-type {\n",
       "        vertical-align: middle;\n",
       "    }\n",
       "\n",
       "    .dataframe tbody tr th {\n",
       "        vertical-align: top;\n",
       "    }\n",
       "\n",
       "    .dataframe thead th {\n",
       "        text-align: right;\n",
       "    }\n",
       "</style>\n",
       "<table border=\"1\" class=\"dataframe\">\n",
       "  <thead>\n",
       "    <tr style=\"text-align: right;\">\n",
       "      <th></th>\n",
       "      <th>is_genuine</th>\n",
       "      <th>count</th>\n",
       "      <th>mean</th>\n",
       "      <th>std</th>\n",
       "      <th>min</th>\n",
       "      <th>25%</th>\n",
       "      <th>50%</th>\n",
       "      <th>75%</th>\n",
       "      <th>max</th>\n",
       "    </tr>\n",
       "  </thead>\n",
       "  <tbody>\n",
       "    <tr>\n",
       "      <th>0</th>\n",
       "      <td>False</td>\n",
       "      <td>70.0</td>\n",
       "      <td>104.230429</td>\n",
       "      <td>0.213130</td>\n",
       "      <td>103.78</td>\n",
       "      <td>104.0825</td>\n",
       "      <td>104.215</td>\n",
       "      <td>104.3775</td>\n",
       "      <td>104.72</td>\n",
       "    </tr>\n",
       "    <tr>\n",
       "      <th>1</th>\n",
       "      <td>True</td>\n",
       "      <td>100.0</td>\n",
       "      <td>103.951500</td>\n",
       "      <td>0.296251</td>\n",
       "      <td>103.23</td>\n",
       "      <td>103.7400</td>\n",
       "      <td>103.915</td>\n",
       "      <td>104.1450</td>\n",
       "      <td>104.86</td>\n",
       "    </tr>\n",
       "  </tbody>\n",
       "</table>\n",
       "</div>"
      ],
      "text/plain": [
       "   is_genuine  count        mean       std     min       25%      50%  \\\n",
       "0       False   70.0  104.230429  0.213130  103.78  104.0825  104.215   \n",
       "1        True  100.0  103.951500  0.296251  103.23  103.7400  103.915   \n",
       "\n",
       "        75%     max  \n",
       "0  104.3775  104.72  \n",
       "1  104.1450  104.86  "
      ]
     },
     "execution_count": 27,
     "metadata": {},
     "output_type": "execute_result"
    }
   ],
   "source": [
    "# analyse bivarié avec  height_left\n",
    "df.groupby(['is_genuine'])['height_left'].describe().reset_index()"
   ]
  },
  {
   "cell_type": "code",
   "execution_count": 28,
   "id": "3e35660d",
   "metadata": {},
   "outputs": [],
   "source": [
    "\n",
    "height_left_F = billetF['height_left']\n",
    "height_left_V = billetV['height_left']"
   ]
  },
  {
   "cell_type": "code",
   "execution_count": 29,
   "id": "465eee86",
   "metadata": {},
   "outputs": [
    {
     "data": {
      "image/png": "[encoded data removed]",
      "text/plain": [
       "<Figure size 1080x720 with 1 Axes>"
      ]
     },
     "metadata": {
      "needs_background": "light"
     },
     "output_type": "display_data"
    }
   ],
   "source": [
    "#distribution de la variable height_left en fonction que le billet soit vrai ou pas.\n",
    "columns = [height_left_F,height_left_V]\n",
    "plt.figure(figsize=(15, 10))\n",
    "#plt.subplots()\n",
    "plt.boxplot(columns)\n",
    "plt.xticks([1, 2], [\"height_left_F\", \"height_left_V \"], rotation=10)\n",
    "plt.ylabel('height left billets')\n",
    "plt.title(\"height left billets en fonction qu'ils soient vrais ou faux\")\n",
    "plt.savefig(\"height left billets en fonction qu'ils soient vrais ou faux\")\n",
    "plt.show()\n",
    "\n"
   ]
  },
  {
   "cell_type": "markdown",
   "id": "93412eab",
   "metadata": {},
   "source": [
    "On a une plus grande dispersion de la hauteur gauche pour les vrais billets et une  mediane plus basse "
   ]
  },
  {
   "cell_type": "code",
   "execution_count": 30,
   "id": "758835e1",
   "metadata": {},
   "outputs": [
    {
     "data": {
      "text/html": [
       "<div>\n",
       "<style scoped>\n",
       "    .dataframe tbody tr th:only-of-type {\n",
       "        vertical-align: middle;\n",
       "    }\n",
       "\n",
       "    .dataframe tbody tr th {\n",
       "        vertical-align: top;\n",
       "    }\n",
       "\n",
       "    .dataframe thead th {\n",
       "        text-align: right;\n",
       "    }\n",
       "</style>\n",
       "<table border=\"1\" class=\"dataframe\">\n",
       "  <thead>\n",
       "    <tr style=\"text-align: right;\">\n",
       "      <th></th>\n",
       "      <th>is_genuine</th>\n",
       "      <th>count</th>\n",
       "      <th>mean</th>\n",
       "      <th>std</th>\n",
       "      <th>min</th>\n",
       "      <th>25%</th>\n",
       "      <th>50%</th>\n",
       "      <th>75%</th>\n",
       "      <th>max</th>\n",
       "    </tr>\n",
       "  </thead>\n",
       "  <tbody>\n",
       "    <tr>\n",
       "      <th>0</th>\n",
       "      <td>False</td>\n",
       "      <td>70.0</td>\n",
       "      <td>104.145571</td>\n",
       "      <td>0.253152</td>\n",
       "      <td>103.44</td>\n",
       "      <td>103.9825</td>\n",
       "      <td>104.17</td>\n",
       "      <td>104.2800</td>\n",
       "      <td>104.86</td>\n",
       "    </tr>\n",
       "    <tr>\n",
       "      <th>1</th>\n",
       "      <td>True</td>\n",
       "      <td>100.0</td>\n",
       "      <td>103.775900</td>\n",
       "      <td>0.292406</td>\n",
       "      <td>103.14</td>\n",
       "      <td>103.5575</td>\n",
       "      <td>103.76</td>\n",
       "      <td>103.9725</td>\n",
       "      <td>104.95</td>\n",
       "    </tr>\n",
       "  </tbody>\n",
       "</table>\n",
       "</div>"
      ],
      "text/plain": [
       "   is_genuine  count        mean       std     min       25%     50%  \\\n",
       "0       False   70.0  104.145571  0.253152  103.44  103.9825  104.17   \n",
       "1        True  100.0  103.775900  0.292406  103.14  103.5575  103.76   \n",
       "\n",
       "        75%     max  \n",
       "0  104.2800  104.86  \n",
       "1  103.9725  104.95  "
      ]
     },
     "execution_count": 30,
     "metadata": {},
     "output_type": "execute_result"
    }
   ],
   "source": [
    "# analyse bivariée avec height_right\n",
    "df.groupby(['is_genuine'])['height_right'].describe().reset_index()"
   ]
  },
  {
   "cell_type": "code",
   "execution_count": 31,
   "id": "134f34ab",
   "metadata": {},
   "outputs": [],
   "source": [
    "height_right_F = billetF['height_right']\n",
    "height_right_V = billetV['height_right']"
   ]
  },
  {
   "cell_type": "code",
   "execution_count": 32,
   "id": "838d065a",
   "metadata": {},
   "outputs": [
    {
     "data": {
      "image/png": "[encoded data removed]",
      "text/plain": [
       "<Figure size 1080x720 with 1 Axes>"
      ]
     },
     "metadata": {
      "needs_background": "light"
     },
     "output_type": "display_data"
    }
   ],
   "source": [
    "#distribution de la variable height_right en fonction que le billet soit vrai ou pas.\n",
    "columns = [height_right_F,height_right_V]\n",
    "plt.figure(figsize=(15, 10))\n",
    "#plt.subplots()\n",
    "plt.boxplot(columns)\n",
    "plt.xticks([1, 2], [\"height_right_F\", \"height_right_V \"], rotation=10)\n",
    "plt.ylabel('height right billets')\n",
    "plt.title(\"hight right billets en fonction qu'ils soient vrais ou faux\")\n",
    "plt.savefig(\"hight right billets en fonction qu'ils soient vrais ou faux\")\n",
    "plt.show()"
   ]
  },
  {
   "cell_type": "markdown",
   "id": "04846d71",
   "metadata": {},
   "source": [
    "hauteur coté droit :mediane plus haute pour les faux billets et plus grande dispersion pour les vrais billets"
   ]
  },
  {
   "cell_type": "code",
   "execution_count": 33,
   "id": "52ae1e35",
   "metadata": {},
   "outputs": [
    {
     "data": {
      "text/html": [
       "<div>\n",
       "<style scoped>\n",
       "    .dataframe tbody tr th:only-of-type {\n",
       "        vertical-align: middle;\n",
       "    }\n",
       "\n",
       "    .dataframe tbody tr th {\n",
       "        vertical-align: top;\n",
       "    }\n",
       "\n",
       "    .dataframe thead th {\n",
       "        text-align: right;\n",
       "    }\n",
       "</style>\n",
       "<table border=\"1\" class=\"dataframe\">\n",
       "  <thead>\n",
       "    <tr style=\"text-align: right;\">\n",
       "      <th></th>\n",
       "      <th>is_genuine</th>\n",
       "      <th>count</th>\n",
       "      <th>mean</th>\n",
       "      <th>std</th>\n",
       "      <th>min</th>\n",
       "      <th>25%</th>\n",
       "      <th>50%</th>\n",
       "      <th>75%</th>\n",
       "      <th>max</th>\n",
       "    </tr>\n",
       "  </thead>\n",
       "  <tbody>\n",
       "    <tr>\n",
       "      <th>0</th>\n",
       "      <td>False</td>\n",
       "      <td>70.0</td>\n",
       "      <td>5.281571</td>\n",
       "      <td>0.540846</td>\n",
       "      <td>3.82</td>\n",
       "      <td>4.9525</td>\n",
       "      <td>5.265</td>\n",
       "      <td>5.7025</td>\n",
       "      <td>6.28</td>\n",
       "    </tr>\n",
       "    <tr>\n",
       "      <th>1</th>\n",
       "      <td>True</td>\n",
       "      <td>100.0</td>\n",
       "      <td>4.143500</td>\n",
       "      <td>0.314509</td>\n",
       "      <td>3.54</td>\n",
       "      <td>3.9000</td>\n",
       "      <td>4.080</td>\n",
       "      <td>4.3825</td>\n",
       "      <td>5.04</td>\n",
       "    </tr>\n",
       "  </tbody>\n",
       "</table>\n",
       "</div>"
      ],
      "text/plain": [
       "   is_genuine  count      mean       std   min     25%    50%     75%   max\n",
       "0       False   70.0  5.281571  0.540846  3.82  4.9525  5.265  5.7025  6.28\n",
       "1        True  100.0  4.143500  0.314509  3.54  3.9000  4.080  4.3825  5.04"
      ]
     },
     "execution_count": 33,
     "metadata": {},
     "output_type": "execute_result"
    }
   ],
   "source": [
    "# analyse bivariée avec margin low\n",
    "df.groupby(['is_genuine'])['margin_low'].describe().reset_index()"
   ]
  },
  {
   "cell_type": "code",
   "execution_count": 34,
   "id": "ec3915d4",
   "metadata": {},
   "outputs": [],
   "source": [
    "margin_low_F = billetF['margin_low']\n",
    "margin_low_V = billetV['margin_low']"
   ]
  },
  {
   "cell_type": "code",
   "execution_count": 36,
   "id": "d9ed7571",
   "metadata": {},
   "outputs": [
    {
     "data": {
      "image/png": "[encoded data removed]",
      "text/plain": [
       "<Figure size 1080x720 with 1 Axes>"
      ]
     },
     "metadata": {
      "needs_background": "light"
     },
     "output_type": "display_data"
    }
   ],
   "source": [
    "#distribution de la variable margin_low en fonction que le billet soit vrai ou pas.\n",
    "columns = [margin_low_F,margin_low_V]\n",
    "plt.figure(figsize=(15, 10))\n",
    "#plt.subplots()\n",
    "plt.boxplot(columns)\n",
    "plt.xticks([1, 2], [\"margin_low_F\", \"margin_low_V\"], rotation=10)\n",
    "plt.ylabel('margin low billets')\n",
    "plt.title(\"margin low billets en fonction qu'ils soient vrais ou faux\")\n",
    "plt.savefig(\"margin low billets en fonction qu'ils soient vrais ou faux\")\n",
    "plt.show()"
   ]
  },
  {
   "cell_type": "markdown",
   "id": "af84348f",
   "metadata": {},
   "source": [
    "marge inférieure mediane plus basse pour les vrais billets que pour les faux avec une dispersion plus petite pour les vrais billets"
   ]
  },
  {
   "cell_type": "code",
   "execution_count": 37,
   "id": "e77ab342",
   "metadata": {},
   "outputs": [
    {
     "data": {
      "text/html": [
       "<div>\n",
       "<style scoped>\n",
       "    .dataframe tbody tr th:only-of-type {\n",
       "        vertical-align: middle;\n",
       "    }\n",
       "\n",
       "    .dataframe tbody tr th {\n",
       "        vertical-align: top;\n",
       "    }\n",
       "\n",
       "    .dataframe thead th {\n",
       "        text-align: right;\n",
       "    }\n",
       "</style>\n",
       "<table border=\"1\" class=\"dataframe\">\n",
       "  <thead>\n",
       "    <tr style=\"text-align: right;\">\n",
       "      <th></th>\n",
       "      <th>is_genuine</th>\n",
       "      <th>count</th>\n",
       "      <th>mean</th>\n",
       "      <th>std</th>\n",
       "      <th>min</th>\n",
       "      <th>25%</th>\n",
       "      <th>50%</th>\n",
       "      <th>75%</th>\n",
       "      <th>max</th>\n",
       "    </tr>\n",
       "  </thead>\n",
       "  <tbody>\n",
       "    <tr>\n",
       "      <th>0</th>\n",
       "      <td>False</td>\n",
       "      <td>70.0</td>\n",
       "      <td>3.334571</td>\n",
       "      <td>0.185102</td>\n",
       "      <td>2.98</td>\n",
       "      <td>3.1850</td>\n",
       "      <td>3.335</td>\n",
       "      <td>3.4500</td>\n",
       "      <td>3.68</td>\n",
       "    </tr>\n",
       "    <tr>\n",
       "      <th>1</th>\n",
       "      <td>True</td>\n",
       "      <td>100.0</td>\n",
       "      <td>3.055500</td>\n",
       "      <td>0.197726</td>\n",
       "      <td>2.27</td>\n",
       "      <td>2.9375</td>\n",
       "      <td>3.070</td>\n",
       "      <td>3.1925</td>\n",
       "      <td>3.53</td>\n",
       "    </tr>\n",
       "  </tbody>\n",
       "</table>\n",
       "</div>"
      ],
      "text/plain": [
       "   is_genuine  count      mean       std   min     25%    50%     75%   max\n",
       "0       False   70.0  3.334571  0.185102  2.98  3.1850  3.335  3.4500  3.68\n",
       "1        True  100.0  3.055500  0.197726  2.27  2.9375  3.070  3.1925  3.53"
      ]
     },
     "execution_count": 37,
     "metadata": {},
     "output_type": "execute_result"
    }
   ],
   "source": [
    "# analyse bivariée  avec margin up\n",
    "df.groupby(['is_genuine'])['margin_up'].describe().reset_index()"
   ]
  },
  {
   "cell_type": "code",
   "execution_count": 38,
   "id": "d1c71ac2",
   "metadata": {},
   "outputs": [],
   "source": [
    "margin_up_F = billetF['margin_up']\n",
    "margin_up_V = billetV['margin_up']"
   ]
  },
  {
   "cell_type": "code",
   "execution_count": 39,
   "id": "eb665e96",
   "metadata": {},
   "outputs": [
    {
     "data": {
      "image/png": "[encoded data removed]",
      "text/plain": [
       "<Figure size 1080x720 with 1 Axes>"
      ]
     },
     "metadata": {
      "needs_background": "light"
     },
     "output_type": "display_data"
    }
   ],
   "source": [
    "#distribution de la variable margin_up en fonction que le billet soit vrai ou pas.\n",
    "columns = [margin_up_F,margin_up_V]\n",
    "plt.figure(figsize=(15, 10))\n",
    "#plt.subplots()\n",
    "plt.boxplot(columns)\n",
    "plt.xticks([1, 2], [\"margin_up_F\", \"margin_up_V\"], rotation=10)\n",
    "plt.ylabel('margin up billets')\n",
    "plt.title(\"margin up billets en fonction qu'ils soient vrais ou faux\")\n",
    "plt.savefig(\"margin up billets en fonction qu'ils soient vrais ou faux\")\n",
    "plt.show()"
   ]
  },
  {
   "cell_type": "markdown",
   "id": "bdf4edc4",
   "metadata": {},
   "source": [
    "marge superieure : la variance est plus élevé pour les vrai billets que pour les faux avec une mediane plus basse pour les vrai que les faux"
   ]
  },
  {
   "cell_type": "code",
   "execution_count": 40,
   "id": "d15282c6",
   "metadata": {},
   "outputs": [
    {
     "data": {
      "text/html": [
       "<div>\n",
       "<style scoped>\n",
       "    .dataframe tbody tr th:only-of-type {\n",
       "        vertical-align: middle;\n",
       "    }\n",
       "\n",
       "    .dataframe tbody tr th {\n",
       "        vertical-align: top;\n",
       "    }\n",
       "\n",
       "    .dataframe thead th {\n",
       "        text-align: right;\n",
       "    }\n",
       "</style>\n",
       "<table border=\"1\" class=\"dataframe\">\n",
       "  <thead>\n",
       "    <tr style=\"text-align: right;\">\n",
       "      <th></th>\n",
       "      <th>is_genuine</th>\n",
       "      <th>count</th>\n",
       "      <th>mean</th>\n",
       "      <th>std</th>\n",
       "      <th>min</th>\n",
       "      <th>25%</th>\n",
       "      <th>50%</th>\n",
       "      <th>75%</th>\n",
       "      <th>max</th>\n",
       "    </tr>\n",
       "  </thead>\n",
       "  <tbody>\n",
       "    <tr>\n",
       "      <th>0</th>\n",
       "      <td>False</td>\n",
       "      <td>70.0</td>\n",
       "      <td>111.660714</td>\n",
       "      <td>0.676931</td>\n",
       "      <td>109.97</td>\n",
       "      <td>111.270</td>\n",
       "      <td>111.765</td>\n",
       "      <td>111.985</td>\n",
       "      <td>113.64</td>\n",
       "    </tr>\n",
       "    <tr>\n",
       "      <th>1</th>\n",
       "      <td>True</td>\n",
       "      <td>100.0</td>\n",
       "      <td>113.207200</td>\n",
       "      <td>0.380476</td>\n",
       "      <td>111.76</td>\n",
       "      <td>112.995</td>\n",
       "      <td>113.210</td>\n",
       "      <td>113.505</td>\n",
       "      <td>113.98</td>\n",
       "    </tr>\n",
       "  </tbody>\n",
       "</table>\n",
       "</div>"
      ],
      "text/plain": [
       "   is_genuine  count        mean       std     min      25%      50%      75%  \\\n",
       "0       False   70.0  111.660714  0.676931  109.97  111.270  111.765  111.985   \n",
       "1        True  100.0  113.207200  0.380476  111.76  112.995  113.210  113.505   \n",
       "\n",
       "      max  \n",
       "0  113.64  \n",
       "1  113.98  "
      ]
     },
     "execution_count": 40,
     "metadata": {},
     "output_type": "execute_result"
    }
   ],
   "source": [
    "# analyse bivarié de la longueur\n",
    "df.groupby(['is_genuine'])['length'].describe().reset_index()\n"
   ]
  },
  {
   "cell_type": "code",
   "execution_count": 41,
   "id": "0032faaf",
   "metadata": {},
   "outputs": [],
   "source": [
    "length_F = billetF['length']\n",
    "length_V = billetV['length']"
   ]
  },
  {
   "cell_type": "code",
   "execution_count": 42,
   "id": "4d7148b8",
   "metadata": {},
   "outputs": [
    {
     "data": {
      "image/png": "[encoded data removed]",
      "text/plain": [
       "<Figure size 1080x720 with 1 Axes>"
      ]
     },
     "metadata": {
      "needs_background": "light"
     },
     "output_type": "display_data"
    }
   ],
   "source": [
    "#distribution de la variable longueur  en fonction que le billet soit vrai ou pas.\n",
    "columns = [length_F,length_V]\n",
    "plt.figure(figsize=(15, 10))\n",
    "#plt.subplots()\n",
    "plt.boxplot(columns)\n",
    "plt.xticks([1, 2], [\"length_F\",\"length_V\"], rotation=10)\n",
    "plt.ylabel('longueur billets')\n",
    "plt.title(\"longueur billets en fonction qu'ils soient vrais ou faux\")\n",
    "plt.savefig(\"longueur billets en fonction qu'ils soient vrais ou faux\")\n",
    "plt.show()"
   ]
  },
  {
   "cell_type": "markdown",
   "id": "e584543f",
   "metadata": {},
   "source": [
    "longueur des billets plus dispersé pour les faux billet que pour les vrais"
   ]
  },
  {
   "cell_type": "markdown",
   "id": "e8702290",
   "metadata": {},
   "source": [
    "## Analyse bivariées variables quantitatives"
   ]
  },
  {
   "cell_type": "code",
   "execution_count": 43,
   "id": "119dfd11",
   "metadata": {},
   "outputs": [
    {
     "data": {
      "text/plain": [
       "Index(['is_genuine', 'diagonal', 'height_left', 'height_right', 'margin_low',\n",
       "       'margin_up', 'length'],\n",
       "      dtype='object')"
      ]
     },
     "execution_count": 43,
     "metadata": {},
     "output_type": "execute_result"
    }
   ],
   "source": [
    "# analyses bivariées entre deux variables quantitatives \n",
    "df.columns"
   ]
  },
  {
   "cell_type": "code",
   "execution_count": 44,
   "id": "ad7a20fc",
   "metadata": {},
   "outputs": [
    {
     "data": {
      "image/png": "[encoded data removed]",
      "text/plain": [
       "<Figure size 720x432 with 1 Axes>"
      ]
     },
     "metadata": {
      "needs_background": "light"
     },
     "output_type": "display_data"
    }
   ],
   "source": [
    "# entre la longueur et la diagonale\n",
    "plt.figure(figsize=(10,6))\n",
    "plt.scatter(df['diagonal'],df['length'], marker='o');\n",
    "plt.xlabel('diagonal')\n",
    "plt.ylabel('length')\n",
    "plt.title('Scatter plot entre la diagonale et la longueur des billets')\n",
    "plt.savefig('Scatter plot entre la diagonale et la longueur des billets')"
   ]
  },
  {
   "cell_type": "code",
   "execution_count": 45,
   "id": "ffc09869",
   "metadata": {},
   "outputs": [
    {
     "data": {
      "text/html": [
       "<div>\n",
       "<style scoped>\n",
       "    .dataframe tbody tr th:only-of-type {\n",
       "        vertical-align: middle;\n",
       "    }\n",
       "\n",
       "    .dataframe tbody tr th {\n",
       "        vertical-align: top;\n",
       "    }\n",
       "\n",
       "    .dataframe thead th {\n",
       "        text-align: right;\n",
       "    }\n",
       "</style>\n",
       "<table border=\"1\" class=\"dataframe\">\n",
       "  <thead>\n",
       "    <tr style=\"text-align: right;\">\n",
       "      <th></th>\n",
       "      <th>résultats de test</th>\n",
       "    </tr>\n",
       "  </thead>\n",
       "  <tbody>\n",
       "    <tr>\n",
       "      <th>pearson</th>\n",
       "      <td>0.080295</td>\n",
       "    </tr>\n",
       "    <tr>\n",
       "      <th>p-value</th>\n",
       "      <td>0.297932</td>\n",
       "    </tr>\n",
       "  </tbody>\n",
       "</table>\n",
       "</div>"
      ],
      "text/plain": [
       "         résultats de test\n",
       "pearson           0.080295\n",
       "p-value           0.297932"
      ]
     },
     "execution_count": 45,
     "metadata": {},
     "output_type": "execute_result"
    }
   ],
   "source": [
    "# test de pearson pour tester si les variables sont indépendantes \n",
    "from scipy.stats import pearsonr\n",
    "pd.DataFrame(pearsonr(df[\"diagonal\"],df[\"length\"]),\n",
    "            index = ['pearson',\"p-value\"],columns = ['résultats de test'])"
   ]
  },
  {
   "cell_type": "markdown",
   "id": "f9f11c19",
   "metadata": {},
   "source": [
    "statistique de test proche de 0\n",
    "\n",
    "H0 les variables testées sont indépendantes \n",
    "\n",
    "\n",
    "p values supérieure à 0.05 on ne peut pas rejeter H0 pas de corrélations entre la longueur et la diagonale du billet"
   ]
  },
  {
   "cell_type": "code",
   "execution_count": 46,
   "id": "1e0cd45e",
   "metadata": {},
   "outputs": [
    {
     "data": {
      "text/plain": [
       "Text(0.5, 1.0, 'Scatter plot entre la hauteur droite et la hauteur gauche des billets')"
      ]
     },
     "execution_count": 46,
     "metadata": {},
     "output_type": "execute_result"
    },
    {
     "data": {
      "image/png": "[encoded data removed]",
      "text/plain": [
       "<Figure size 720x432 with 1 Axes>"
      ]
     },
     "metadata": {
      "needs_background": "light"
     },
     "output_type": "display_data"
    }
   ],
   "source": [
    "#entre auteur droite et hauteur h-gauche \n",
    "\n",
    "plt.figure(figsize=(10,6))\n",
    "plt.scatter(df['height_left'],df['height_right'], marker='o');\n",
    "plt.xlabel('height_left')\n",
    "plt.ylabel('height_right')\n",
    "plt.title('Scatter plot entre la hauteur droite et la hauteur gauche des billets')"
   ]
  },
  {
   "cell_type": "code",
   "execution_count": 47,
   "id": "3a488e44",
   "metadata": {},
   "outputs": [
    {
     "data": {
      "text/html": [
       "<div>\n",
       "<style scoped>\n",
       "    .dataframe tbody tr th:only-of-type {\n",
       "        vertical-align: middle;\n",
       "    }\n",
       "\n",
       "    .dataframe tbody tr th {\n",
       "        vertical-align: top;\n",
       "    }\n",
       "\n",
       "    .dataframe thead th {\n",
       "        text-align: right;\n",
       "    }\n",
       "</style>\n",
       "<table border=\"1\" class=\"dataframe\">\n",
       "  <thead>\n",
       "    <tr style=\"text-align: right;\">\n",
       "      <th></th>\n",
       "      <th>résultats de test</th>\n",
       "    </tr>\n",
       "  </thead>\n",
       "  <tbody>\n",
       "    <tr>\n",
       "      <th>pearson</th>\n",
       "      <td>7.343903e-01</td>\n",
       "    </tr>\n",
       "    <tr>\n",
       "      <th>p-value</th>\n",
       "      <td>4.419618e-30</td>\n",
       "    </tr>\n",
       "  </tbody>\n",
       "</table>\n",
       "</div>"
      ],
      "text/plain": [
       "         résultats de test\n",
       "pearson       7.343903e-01\n",
       "p-value       4.419618e-30"
      ]
     },
     "execution_count": 47,
     "metadata": {},
     "output_type": "execute_result"
    }
   ],
   "source": [
    "from scipy.stats import pearsonr\n",
    "pd.DataFrame(pearsonr(df[\"height_left\"],df[\"height_right\"]),\n",
    "            index = ['pearson',\"p-value\"],columns = ['résultats de test'])"
   ]
  },
  {
   "cell_type": "markdown",
   "id": "6406b2d1",
   "metadata": {},
   "source": [
    "On constate une corélation poitive entre la marge gauche et la marge droite ,\n",
    "On peut enlever une de ces deux variables."
   ]
  },
  {
   "cell_type": "code",
   "execution_count": 49,
   "id": "eb6032bb",
   "metadata": {},
   "outputs": [
    {
     "data": {
      "image/png": "[encoded data removed]",
      "text/plain": [
       "<Figure size 720x432 with 1 Axes>"
      ]
     },
     "metadata": {
      "needs_background": "light"
     },
     "output_type": "display_data"
    }
   ],
   "source": [
    "#entre margin low et  margin_up\n",
    "\n",
    "plt.figure(figsize=(10,6))\n",
    "plt.scatter(df['margin_low'],df['margin_up'], marker='o');\n",
    "plt.xlabel('margin_low')\n",
    "plt.ylabel('margin_up')\n",
    "plt.title('Scatter plot entre la marge basse et la marge hausse des billets')\n",
    "plt.savefig('Scatter plot entre la marge basse et la marge hausse des billets')"
   ]
  },
  {
   "cell_type": "code",
   "execution_count": 50,
   "id": "3f71c21c",
   "metadata": {},
   "outputs": [
    {
     "data": {
      "text/html": [
       "<div>\n",
       "<style scoped>\n",
       "    .dataframe tbody tr th:only-of-type {\n",
       "        vertical-align: middle;\n",
       "    }\n",
       "\n",
       "    .dataframe tbody tr th {\n",
       "        vertical-align: top;\n",
       "    }\n",
       "\n",
       "    .dataframe thead th {\n",
       "        text-align: right;\n",
       "    }\n",
       "</style>\n",
       "<table border=\"1\" class=\"dataframe\">\n",
       "  <thead>\n",
       "    <tr style=\"text-align: right;\">\n",
       "      <th></th>\n",
       "      <th>résultats de test</th>\n",
       "    </tr>\n",
       "  </thead>\n",
       "  <tbody>\n",
       "    <tr>\n",
       "      <th>pearson</th>\n",
       "      <td>0.171113</td>\n",
       "    </tr>\n",
       "    <tr>\n",
       "      <th>p-value</th>\n",
       "      <td>0.025677</td>\n",
       "    </tr>\n",
       "  </tbody>\n",
       "</table>\n",
       "</div>"
      ],
      "text/plain": [
       "         résultats de test\n",
       "pearson           0.171113\n",
       "p-value           0.025677"
      ]
     },
     "execution_count": 50,
     "metadata": {},
     "output_type": "execute_result"
    }
   ],
   "source": [
    "from scipy.stats import pearsonr\n",
    "pd.DataFrame(pearsonr(df[\"margin_low\"],df[\"margin_up\"]),\n",
    "            index = ['pearson',\"p-value\"],columns = ['résultats de test'])"
   ]
  },
  {
   "cell_type": "markdown",
   "id": "85a8f73a",
   "metadata": {},
   "source": [
    " On observe une corrélation entre ces deux variables mais moins visible que sur la hauteur "
   ]
  },
  {
   "cell_type": "markdown",
   "id": "6c09e315",
   "metadata": {},
   "source": [
    "# 2. Analyse en Composantes principales"
   ]
  },
  {
   "cell_type": "markdown",
   "id": "7d4dd2ff",
   "metadata": {},
   "source": [
    "## Mission 1\n",
    "\n",
    "Vous réaliserez une analyse en composantes principales de l'échantillon, en suivant toutes ces étapes :\n",
    "analyse de l'éboulis des valeurs propres ;\n",
    "représentation des variables par le cercle des corrélations ;\n",
    "représentation des individus par les plans factoriels ;\n",
    "analyser de la qualité de représentation et la contribution des individus.\n",
    "Pour chacune de ces étapes, commentez les résultats obtenus. La variable donnant la nature Vrai/Faux du billet sera utilisée comme variable illustrative"
   ]
  },
  {
   "cell_type": "markdown",
   "id": "ea7879a6",
   "metadata": {},
   "source": [
    "## APC"
   ]
  },
  {
   "cell_type": "code",
   "execution_count": 51,
   "id": "1ecbdeb9",
   "metadata": {},
   "outputs": [],
   "source": [
    "import numpy as np\n",
    "from sklearn import preprocessing\n",
    "from sklearn import decomposition"
   ]
  },
  {
   "cell_type": "code",
   "execution_count": 52,
   "id": "9404c786",
   "metadata": {},
   "outputs": [
    {
     "data": {
      "text/html": [
       "<div>\n",
       "<style scoped>\n",
       "    .dataframe tbody tr th:only-of-type {\n",
       "        vertical-align: middle;\n",
       "    }\n",
       "\n",
       "    .dataframe tbody tr th {\n",
       "        vertical-align: top;\n",
       "    }\n",
       "\n",
       "    .dataframe thead th {\n",
       "        text-align: right;\n",
       "    }\n",
       "</style>\n",
       "<table border=\"1\" class=\"dataframe\">\n",
       "  <thead>\n",
       "    <tr style=\"text-align: right;\">\n",
       "      <th></th>\n",
       "      <th>is_genuine</th>\n",
       "      <th>diagonal</th>\n",
       "      <th>height_left</th>\n",
       "      <th>height_right</th>\n",
       "      <th>margin_low</th>\n",
       "      <th>margin_up</th>\n",
       "      <th>length</th>\n",
       "    </tr>\n",
       "  </thead>\n",
       "  <tbody>\n",
       "    <tr>\n",
       "      <th>0</th>\n",
       "      <td>True</td>\n",
       "      <td>171.81</td>\n",
       "      <td>104.86</td>\n",
       "      <td>104.95</td>\n",
       "      <td>4.52</td>\n",
       "      <td>2.89</td>\n",
       "      <td>112.83</td>\n",
       "    </tr>\n",
       "    <tr>\n",
       "      <th>1</th>\n",
       "      <td>True</td>\n",
       "      <td>171.67</td>\n",
       "      <td>103.74</td>\n",
       "      <td>103.70</td>\n",
       "      <td>4.01</td>\n",
       "      <td>2.87</td>\n",
       "      <td>113.29</td>\n",
       "    </tr>\n",
       "    <tr>\n",
       "      <th>2</th>\n",
       "      <td>True</td>\n",
       "      <td>171.83</td>\n",
       "      <td>103.76</td>\n",
       "      <td>103.76</td>\n",
       "      <td>4.40</td>\n",
       "      <td>2.88</td>\n",
       "      <td>113.84</td>\n",
       "    </tr>\n",
       "    <tr>\n",
       "      <th>3</th>\n",
       "      <td>True</td>\n",
       "      <td>171.80</td>\n",
       "      <td>103.78</td>\n",
       "      <td>103.65</td>\n",
       "      <td>3.73</td>\n",
       "      <td>3.12</td>\n",
       "      <td>113.63</td>\n",
       "    </tr>\n",
       "    <tr>\n",
       "      <th>4</th>\n",
       "      <td>True</td>\n",
       "      <td>172.05</td>\n",
       "      <td>103.70</td>\n",
       "      <td>103.75</td>\n",
       "      <td>5.04</td>\n",
       "      <td>2.27</td>\n",
       "      <td>113.55</td>\n",
       "    </tr>\n",
       "  </tbody>\n",
       "</table>\n",
       "</div>"
      ],
      "text/plain": [
       "   is_genuine  diagonal  height_left  height_right  margin_low  margin_up  \\\n",
       "0        True    171.81       104.86        104.95        4.52       2.89   \n",
       "1        True    171.67       103.74        103.70        4.01       2.87   \n",
       "2        True    171.83       103.76        103.76        4.40       2.88   \n",
       "3        True    171.80       103.78        103.65        3.73       3.12   \n",
       "4        True    172.05       103.70        103.75        5.04       2.27   \n",
       "\n",
       "   length  \n",
       "0  112.83  \n",
       "1  113.29  \n",
       "2  113.84  \n",
       "3  113.63  \n",
       "4  113.55  "
      ]
     },
     "execution_count": 52,
     "metadata": {},
     "output_type": "execute_result"
    }
   ],
   "source": [
    " df.head()"
   ]
  },
  {
   "cell_type": "code",
   "execution_count": 53,
   "id": "bf6cc8ec",
   "metadata": {},
   "outputs": [],
   "source": [
    "df_pca = df.copy()"
   ]
  },
  {
   "cell_type": "code",
   "execution_count": 54,
   "id": "f083850e",
   "metadata": {},
   "outputs": [],
   "source": [
    "#on enlève la target \n",
    "del df_pca['is_genuine']"
   ]
  },
  {
   "cell_type": "code",
   "execution_count": 55,
   "id": "e9f653a1",
   "metadata": {},
   "outputs": [
    {
     "data": {
      "text/html": [
       "<div>\n",
       "<style scoped>\n",
       "    .dataframe tbody tr th:only-of-type {\n",
       "        vertical-align: middle;\n",
       "    }\n",
       "\n",
       "    .dataframe tbody tr th {\n",
       "        vertical-align: top;\n",
       "    }\n",
       "\n",
       "    .dataframe thead th {\n",
       "        text-align: right;\n",
       "    }\n",
       "</style>\n",
       "<table border=\"1\" class=\"dataframe\">\n",
       "  <thead>\n",
       "    <tr style=\"text-align: right;\">\n",
       "      <th></th>\n",
       "      <th>diagonal</th>\n",
       "      <th>height_left</th>\n",
       "      <th>height_right</th>\n",
       "      <th>margin_low</th>\n",
       "      <th>margin_up</th>\n",
       "      <th>length</th>\n",
       "    </tr>\n",
       "  </thead>\n",
       "  <tbody>\n",
       "    <tr>\n",
       "      <th>0</th>\n",
       "      <td>171.81</td>\n",
       "      <td>104.86</td>\n",
       "      <td>104.95</td>\n",
       "      <td>4.52</td>\n",
       "      <td>2.89</td>\n",
       "      <td>112.83</td>\n",
       "    </tr>\n",
       "    <tr>\n",
       "      <th>1</th>\n",
       "      <td>171.67</td>\n",
       "      <td>103.74</td>\n",
       "      <td>103.70</td>\n",
       "      <td>4.01</td>\n",
       "      <td>2.87</td>\n",
       "      <td>113.29</td>\n",
       "    </tr>\n",
       "    <tr>\n",
       "      <th>2</th>\n",
       "      <td>171.83</td>\n",
       "      <td>103.76</td>\n",
       "      <td>103.76</td>\n",
       "      <td>4.40</td>\n",
       "      <td>2.88</td>\n",
       "      <td>113.84</td>\n",
       "    </tr>\n",
       "    <tr>\n",
       "      <th>3</th>\n",
       "      <td>171.80</td>\n",
       "      <td>103.78</td>\n",
       "      <td>103.65</td>\n",
       "      <td>3.73</td>\n",
       "      <td>3.12</td>\n",
       "      <td>113.63</td>\n",
       "    </tr>\n",
       "    <tr>\n",
       "      <th>4</th>\n",
       "      <td>172.05</td>\n",
       "      <td>103.70</td>\n",
       "      <td>103.75</td>\n",
       "      <td>5.04</td>\n",
       "      <td>2.27</td>\n",
       "      <td>113.55</td>\n",
       "    </tr>\n",
       "  </tbody>\n",
       "</table>\n",
       "</div>"
      ],
      "text/plain": [
       "   diagonal  height_left  height_right  margin_low  margin_up  length\n",
       "0    171.81       104.86        104.95        4.52       2.89  112.83\n",
       "1    171.67       103.74        103.70        4.01       2.87  113.29\n",
       "2    171.83       103.76        103.76        4.40       2.88  113.84\n",
       "3    171.80       103.78        103.65        3.73       3.12  113.63\n",
       "4    172.05       103.70        103.75        5.04       2.27  113.55"
      ]
     },
     "execution_count": 55,
     "metadata": {},
     "output_type": "execute_result"
    }
   ],
   "source": [
    "df_pca.head()"
   ]
  },
  {
   "cell_type": "code",
   "execution_count": 56,
   "id": "80551c49",
   "metadata": {},
   "outputs": [
    {
     "name": "stdout",
     "output_type": "stream",
     "text": [
      "Index(['diagonal', 'height_left', 'height_right', 'margin_low', 'margin_up',\n",
      "       'length'],\n",
      "      dtype='object')\n"
     ]
    }
   ],
   "source": [
    "#preparation des données pour l'acp\n",
    "X = df_pca.values\n",
    "#print(X)\n",
    "features = df_pca.columns\n",
    "print(features)"
   ]
  },
  {
   "cell_type": "code",
   "execution_count": 57,
   "id": "b994ebc1",
   "metadata": {},
   "outputs": [],
   "source": [
    "# Centrage et Réduction\n",
    "std_scale = preprocessing.StandardScaler().fit(X)\n",
    "X_scaled = std_scale.transform(X)"
   ]
  },
  {
   "cell_type": "code",
   "execution_count": 58,
   "id": "6a552fcb",
   "metadata": {},
   "outputs": [
    {
     "data": {
      "text/plain": [
       "PCA(n_components=6)"
      ]
     },
     "execution_count": 58,
     "metadata": {},
     "output_type": "execute_result"
    }
   ],
   "source": [
    "# Calcul des composantes principales\n",
    "#initialisation de l'objet PCA \n",
    "pca = decomposition.PCA(n_components=6)\n",
    "pca.fit(X_scaled)"
   ]
  },
  {
   "cell_type": "code",
   "execution_count": 59,
   "id": "51068581",
   "metadata": {},
   "outputs": [],
   "source": [
    "def display_scree_plot(pca):\n",
    "    scree = pca.explained_variance_ratio_*100\n",
    "    plt.bar(np.arange(len(scree))+1, scree)\n",
    "    plt.plot(np.arange(len(scree))+1, scree.cumsum(),c=\"red\",marker='o')\n",
    "    plt.xlabel(\"rang de l'axe d'inertie\")\n",
    "    plt.ylabel(\"pourcentage d'inertie\")\n",
    "    plt.title(\"Eboulis des valeurs propres\")\n",
    "    plt.savefig('Eboulis des valeurs propres')\n",
    "    plt.show(block=False)"
   ]
  },
  {
   "cell_type": "code",
   "execution_count": 60,
   "id": "0ba47d83",
   "metadata": {},
   "outputs": [
    {
     "data": {
      "image/png": "[encoded data removed]",
      "text/plain": [
       "<Figure size 432x288 with 1 Axes>"
      ]
     },
     "metadata": {
      "needs_background": "light"
     },
     "output_type": "display_data"
    }
   ],
   "source": [
    "# Eboulis des valeurs propres\n",
    "display_scree_plot(pca)"
   ]
  },
  {
   "cell_type": "markdown",
   "id": "a139091b",
   "metadata": {},
   "source": [
    "les 3 premièrs axes expliquent 80 % de la vraiance"
   ]
  },
  {
   "cell_type": "code",
   "execution_count": 61,
   "id": "0ba110de",
   "metadata": {},
   "outputs": [],
   "source": [
    "#on ne garde donc que 3 valeurs synthétiques\n",
    "n_comp = 3\n"
   ]
  },
  {
   "cell_type": "code",
   "execution_count": 62,
   "id": "cc1ad2c8",
   "metadata": {},
   "outputs": [
    {
     "data": {
      "text/plain": [
       "PCA(n_components=3)"
      ]
     },
     "execution_count": 62,
     "metadata": {},
     "output_type": "execute_result"
    }
   ],
   "source": [
    "# Calcul des composantes principales\n",
    "#initialisation de l'objet PCA \n",
    "pca = decomposition.PCA(n_components=n_comp)\n",
    "pca.fit(X_scaled)"
   ]
  },
  {
   "cell_type": "code",
   "execution_count": 65,
   "id": "cc58a498",
   "metadata": {},
   "outputs": [],
   "source": [
    "#afficher les cercles de corrélation\n",
    "def display_circles(pcs, n_comp, pca, axis_ranks, labels=None, label_rotation=0, lims=None):\n",
    "    for d1, d2 in axis_ranks: # On affiche les 3 premiers plans factoriels, donc les 6 premières composantes\n",
    "        if d2 < n_comp:\n",
    "\n",
    "            # initialisation de la figure\n",
    "            fig, ax = plt.subplots(figsize=(7,6))\n",
    "\n",
    "            # détermination des limites du graphique\n",
    "            if lims is not None :\n",
    "                xmin, xmax, ymin, ymax = lims\n",
    "            elif pcs.shape[1] < 30 :\n",
    "                xmin, xmax, ymin, ymax = -1, 1, -1, 1\n",
    "            else :\n",
    "                xmin, xmax, ymin, ymax = min(pcs[d1,:]), max(pcs[d1,:]), min(pcs[d2,:]), max(pcs[d2,:])\n",
    "\n",
    "            # affichage des flèches\n",
    "            # s'il y a plus de 30 flèches, on n'affiche pas le triangle à leur extrémité\n",
    "            if pcs.shape[1] < 30 :\n",
    "                plt.quiver(np.zeros(pcs.shape[1]), np.zeros(pcs.shape[1]),\n",
    "                   pcs[d1,:], pcs[d2,:], \n",
    "                   angles='xy', scale_units='xy', scale=1, color=\"grey\")\n",
    "                # (voir la doc : https://matplotlib.org/api/_as_gen/matplotlib.pyplot.quiver.html)\n",
    "            else:\n",
    "                lines = [[[0,0],[x,y]] for x,y in pcs[[d1,d2]].T]\n",
    "                ax.add_collection(LineCollection(lines, axes=ax, alpha=.1, color='black'))\n",
    "            \n",
    "            # affichage des noms des variables  \n",
    "            if labels is not None:  \n",
    "                for i,(x, y) in enumerate(pcs[[d1,d2]].T):\n",
    "                    if x >= xmin and x <= xmax and y >= ymin and y <= ymax :\n",
    "                        plt.text(x, y, labels[i], fontsize='14', ha='center', va='center', rotation=label_rotation, color=\"blue\", alpha=0.5)\n",
    "            \n",
    "            # affichage du cercle\n",
    "            circle = plt.Circle((0,0), 1, facecolor='none', edgecolor='b')\n",
    "            plt.gca().add_artist(circle)\n",
    "\n",
    "            # définition des limites du graphique\n",
    "            plt.xlim(xmin, xmax)\n",
    "            plt.ylim(ymin, ymax)\n",
    "        \n",
    "            # affichage des lignes horizontales et verticales\n",
    "            plt.plot([-1, 1], [0, 0], color='grey', ls='--')\n",
    "            plt.plot([0, 0], [-1, 1], color='grey', ls='--')\n",
    "\n",
    "            # nom des axes, avec le pourcentage d'inertie expliqué\n",
    "            plt.xlabel('F{} ({}%)'.format(d1+1, round(100*pca.explained_variance_ratio_[d1],1)))\n",
    "            plt.ylabel('F{} ({}%)'.format(d2+1, round(100*pca.explained_variance_ratio_[d2],1)))\n",
    "\n",
    "            plt.title(\"Cercle des corrélations (F{} et F{})\".format(d1+1, d2+1))\n",
    "            plt.savefig(\"Cercle des corrélations \")\n",
    "            plt.show(block=False)"
   ]
  },
  {
   "cell_type": "code",
   "execution_count": 66,
   "id": "e1fba20b",
   "metadata": {},
   "outputs": [
    {
     "data": {
      "image/png": "[encoded data removed]",
      "text/plain": [
       "<Figure size 504x432 with 1 Axes>"
      ]
     },
     "metadata": {
      "needs_background": "light"
     },
     "output_type": "display_data"
    },
    {
     "data": {
      "image/png": "[encoded data removed]",
      "text/plain": [
       "<Figure size 504x432 with 1 Axes>"
      ]
     },
     "metadata": {
      "needs_background": "light"
     },
     "output_type": "display_data"
    },
    {
     "data": {
      "image/png": "[encoded data removed]",
      "text/plain": [
       "<Figure size 504x432 with 1 Axes>"
      ]
     },
     "metadata": {
      "needs_background": "light"
     },
     "output_type": "display_data"
    }
   ],
   "source": [
    "# Cercle des corrélations\n",
    "pcs = pca.components_\n",
    "display_circles(pcs,n_comp , pca, [(0,1),(0,2),(1,2)], labels = np.array(features))"
   ]
  },
  {
   "cell_type": "markdown",
   "id": "501bd203",
   "metadata": {},
   "source": [
    "On voit dans les cercles de corrélations que F2 va correspondre à la hauteur des billets : plus les billets ont une grande hauteur et plus ils vont se trouver à droite du cercle , ceux qui vont se trouver à gauche du cercle sont les billet qui sont les plus longs.\n",
    "\n",
    "F1 correspond à la diagonale les billets qui vont se trouver en haut du cercle auront une diagonale plus grande \n",
    "\n",
    "\n",
    "F3 correspond également à la hauteur : les billets avec une marge basse et des grandes hauteurs (donc les billets plus large) vont se trouver sur la droite de cet axe"
   ]
  },
  {
   "cell_type": "code",
   "execution_count": 67,
   "id": "239e26e2",
   "metadata": {},
   "outputs": [],
   "source": [
    "# Projection des individus\n",
    "\n",
    "from sklearn.decomposition import PCA\n",
    "\n",
    "# Create a PCA model to reduce our data to 2 dimensions for visualisation\n",
    "pca = PCA(n_components=2)\n",
    "pca.fit(X_scaled)\n",
    "\n",
    "# Transfor the scaled data to the new PCA space\n",
    "X_reduced = pca.transform(X_scaled)\n"
   ]
  },
  {
   "cell_type": "code",
   "execution_count": 68,
   "id": "55cbcf5a",
   "metadata": {},
   "outputs": [],
   "source": [
    "def display_factorial_planes(X_projected, n_comp, pca, axis_ranks, labels=None, alpha=1, illustrative_var=None):\n",
    "    for d1,d2 in axis_ranks:\n",
    "        if d2 < n_comp:\n",
    " \n",
    "            # initialisation de la figure       \n",
    "            fig = plt.figure(figsize=(7,6))\n",
    "        \n",
    "            # affichage des points\n",
    "            if illustrative_var is None:\n",
    "                plt.scatter(X_projected[:, d1], X_projected[:, d2], alpha=alpha)\n",
    "            else:\n",
    "                illustrative_var = np.array(illustrative_var)\n",
    "                for value in np.unique(illustrative_var):\n",
    "                    selected = np.where(illustrative_var == value)\n",
    "                    plt.scatter(X_projected[selected, d1], X_projected[selected, d2], alpha=alpha, label=value)\n",
    "                plt.legend()\n",
    "\n",
    "            # affichage des labels des points\n",
    "            if labels is not None:\n",
    "                for i,(x,y) in enumerate(X_projected[:,[d1,d2]]):\n",
    "                    plt.text(x, y, labels[i],\n",
    "                              fontsize='14', ha='center',va='center') \n",
    "                \n",
    "            # détermination des limites du graphique\n",
    "            boundary = np.max(np.abs(X_projected[:, [d1,d2]])) * 1.1\n",
    "            plt.xlim([-boundary,boundary])\n",
    "            plt.ylim([-boundary,boundary])\n",
    "        \n",
    "            # affichage des lignes horizontales et verticales\n",
    "            plt.plot([-100, 100], [0, 0], color='grey', ls='--')\n",
    "            plt.plot([0, 0], [-100, 100], color='grey', ls='--')\n",
    "\n",
    "            # nom des axes, avec le pourcentage d'inertie expliqué\n",
    "            plt.xlabel('F{} ({}%)'.format(d1+1, round(100*pca.explained_variance_ratio_[d1],1)))\n",
    "            plt.ylabel('F{} ({}%)'.format(d2+1, round(100*pca.explained_variance_ratio_[d2],1)))\n",
    "\n",
    "            plt.title(\"Projection des individus (sur F{} et F{})\".format(d1+1, d2+1))\n",
    "            plt.savefig(\"Projection des individus\")\n",
    "            plt.show(block=False)\n"
   ]
  },
  {
   "cell_type": "code",
   "execution_count": 69,
   "id": "94470650",
   "metadata": {},
   "outputs": [
    {
     "data": {
      "image/png": "[encoded data removed]",
      "text/plain": [
       "<Figure size 504x432 with 1 Axes>"
      ]
     },
     "metadata": {
      "needs_background": "light"
     },
     "output_type": "display_data"
    }
   ],
   "source": [
    "display_factorial_planes(X_reduced, 2, pca, [(0,1)], illustrative_var = df['is_genuine'], alpha = 0.8)"
   ]
  },
  {
   "cell_type": "markdown",
   "id": "ed00fc10",
   "metadata": {},
   "source": [
    " les billets faux ont une marge et une hauteur plus importante que les vrais billets\n",
    " les vrai billets ont une longueur plus importante que le les faux et une diagonale plus grande"
   ]
  },
  {
   "cell_type": "markdown",
   "id": "da1038cd",
   "metadata": {},
   "source": [
    "## 3. La Classification"
   ]
  },
  {
   "cell_type": "markdown",
   "id": "b96ef5a1",
   "metadata": {},
   "source": [
    "## Mission 2\n",
    "Appliquez un algorithme de classification, puis analysez le résultat obtenu.\n",
    "Visualisez la partition obtenue dans le premier plan factoriel de l'ACP, puis analysez-la."
   ]
  },
  {
   "cell_type": "code",
   "execution_count": 70,
   "id": "9a4d44f5",
   "metadata": {},
   "outputs": [],
   "source": [
    "# changer True False avec 0 1\n",
    "df[\"is_genuine\"] = df[\"is_genuine\"].astype(int)\n"
   ]
  },
  {
   "cell_type": "code",
   "execution_count": 71,
   "id": "4da488e0",
   "metadata": {},
   "outputs": [
    {
     "data": {
      "text/plain": [
       "0      1\n",
       "1      1\n",
       "2      1\n",
       "3      1\n",
       "4      1\n",
       "      ..\n",
       "165    0\n",
       "166    0\n",
       "167    0\n",
       "168    0\n",
       "169    0\n",
       "Name: is_genuine, Length: 170, dtype: int64"
      ]
     },
     "execution_count": 71,
     "metadata": {},
     "output_type": "execute_result"
    }
   ],
   "source": [
    "df[\"is_genuine\"]"
   ]
  },
  {
   "cell_type": "code",
   "execution_count": 72,
   "id": "812617a2",
   "metadata": {},
   "outputs": [
    {
     "data": {
      "text/html": [
       "<div>\n",
       "<style scoped>\n",
       "    .dataframe tbody tr th:only-of-type {\n",
       "        vertical-align: middle;\n",
       "    }\n",
       "\n",
       "    .dataframe tbody tr th {\n",
       "        vertical-align: top;\n",
       "    }\n",
       "\n",
       "    .dataframe thead th {\n",
       "        text-align: right;\n",
       "    }\n",
       "</style>\n",
       "<table border=\"1\" class=\"dataframe\">\n",
       "  <thead>\n",
       "    <tr style=\"text-align: right;\">\n",
       "      <th></th>\n",
       "      <th>is_genuine</th>\n",
       "      <th>diagonal</th>\n",
       "      <th>height_left</th>\n",
       "      <th>height_right</th>\n",
       "      <th>margin_low</th>\n",
       "      <th>margin_up</th>\n",
       "      <th>length</th>\n",
       "    </tr>\n",
       "  </thead>\n",
       "  <tbody>\n",
       "    <tr>\n",
       "      <th>0</th>\n",
       "      <td>1</td>\n",
       "      <td>171.81</td>\n",
       "      <td>104.86</td>\n",
       "      <td>104.95</td>\n",
       "      <td>4.52</td>\n",
       "      <td>2.89</td>\n",
       "      <td>112.83</td>\n",
       "    </tr>\n",
       "    <tr>\n",
       "      <th>1</th>\n",
       "      <td>1</td>\n",
       "      <td>171.67</td>\n",
       "      <td>103.74</td>\n",
       "      <td>103.70</td>\n",
       "      <td>4.01</td>\n",
       "      <td>2.87</td>\n",
       "      <td>113.29</td>\n",
       "    </tr>\n",
       "    <tr>\n",
       "      <th>2</th>\n",
       "      <td>1</td>\n",
       "      <td>171.83</td>\n",
       "      <td>103.76</td>\n",
       "      <td>103.76</td>\n",
       "      <td>4.40</td>\n",
       "      <td>2.88</td>\n",
       "      <td>113.84</td>\n",
       "    </tr>\n",
       "    <tr>\n",
       "      <th>3</th>\n",
       "      <td>1</td>\n",
       "      <td>171.80</td>\n",
       "      <td>103.78</td>\n",
       "      <td>103.65</td>\n",
       "      <td>3.73</td>\n",
       "      <td>3.12</td>\n",
       "      <td>113.63</td>\n",
       "    </tr>\n",
       "    <tr>\n",
       "      <th>4</th>\n",
       "      <td>1</td>\n",
       "      <td>172.05</td>\n",
       "      <td>103.70</td>\n",
       "      <td>103.75</td>\n",
       "      <td>5.04</td>\n",
       "      <td>2.27</td>\n",
       "      <td>113.55</td>\n",
       "    </tr>\n",
       "  </tbody>\n",
       "</table>\n",
       "</div>"
      ],
      "text/plain": [
       "   is_genuine  diagonal  height_left  height_right  margin_low  margin_up  \\\n",
       "0           1    171.81       104.86        104.95        4.52       2.89   \n",
       "1           1    171.67       103.74        103.70        4.01       2.87   \n",
       "2           1    171.83       103.76        103.76        4.40       2.88   \n",
       "3           1    171.80       103.78        103.65        3.73       3.12   \n",
       "4           1    172.05       103.70        103.75        5.04       2.27   \n",
       "\n",
       "   length  \n",
       "0  112.83  \n",
       "1  113.29  \n",
       "2  113.84  \n",
       "3  113.63  \n",
       "4  113.55  "
      ]
     },
     "execution_count": 72,
     "metadata": {},
     "output_type": "execute_result"
    }
   ],
   "source": [
    "df.head()"
   ]
  },
  {
   "cell_type": "code",
   "execution_count": 73,
   "id": "32289af3",
   "metadata": {},
   "outputs": [],
   "source": [
    "#  on va appliquer le kmeans\n",
    "from sklearn.cluster import KMeans\n",
    "from sklearn import decomposition\n"
   ]
  },
  {
   "cell_type": "code",
   "execution_count": 74,
   "id": "bf3f86e3",
   "metadata": {},
   "outputs": [],
   "source": [
    "# Nombre de clusters souhaités\n",
    "n_clust = 2"
   ]
  },
  {
   "cell_type": "code",
   "execution_count": 75,
   "id": "7ce06e60",
   "metadata": {},
   "outputs": [
    {
     "data": {
      "text/html": [
       "<div>\n",
       "<style scoped>\n",
       "    .dataframe tbody tr th:only-of-type {\n",
       "        vertical-align: middle;\n",
       "    }\n",
       "\n",
       "    .dataframe tbody tr th {\n",
       "        vertical-align: top;\n",
       "    }\n",
       "\n",
       "    .dataframe thead th {\n",
       "        text-align: right;\n",
       "    }\n",
       "</style>\n",
       "<table border=\"1\" class=\"dataframe\">\n",
       "  <thead>\n",
       "    <tr style=\"text-align: right;\">\n",
       "      <th></th>\n",
       "      <th>diagonal</th>\n",
       "      <th>height_left</th>\n",
       "      <th>height_right</th>\n",
       "      <th>margin_low</th>\n",
       "      <th>margin_up</th>\n",
       "      <th>length</th>\n",
       "    </tr>\n",
       "  </thead>\n",
       "  <tbody>\n",
       "    <tr>\n",
       "      <th>0</th>\n",
       "      <td>171.81</td>\n",
       "      <td>104.86</td>\n",
       "      <td>104.95</td>\n",
       "      <td>4.52</td>\n",
       "      <td>2.89</td>\n",
       "      <td>112.83</td>\n",
       "    </tr>\n",
       "    <tr>\n",
       "      <th>1</th>\n",
       "      <td>171.67</td>\n",
       "      <td>103.74</td>\n",
       "      <td>103.70</td>\n",
       "      <td>4.01</td>\n",
       "      <td>2.87</td>\n",
       "      <td>113.29</td>\n",
       "    </tr>\n",
       "    <tr>\n",
       "      <th>2</th>\n",
       "      <td>171.83</td>\n",
       "      <td>103.76</td>\n",
       "      <td>103.76</td>\n",
       "      <td>4.40</td>\n",
       "      <td>2.88</td>\n",
       "      <td>113.84</td>\n",
       "    </tr>\n",
       "    <tr>\n",
       "      <th>3</th>\n",
       "      <td>171.80</td>\n",
       "      <td>103.78</td>\n",
       "      <td>103.65</td>\n",
       "      <td>3.73</td>\n",
       "      <td>3.12</td>\n",
       "      <td>113.63</td>\n",
       "    </tr>\n",
       "    <tr>\n",
       "      <th>4</th>\n",
       "      <td>172.05</td>\n",
       "      <td>103.70</td>\n",
       "      <td>103.75</td>\n",
       "      <td>5.04</td>\n",
       "      <td>2.27</td>\n",
       "      <td>113.55</td>\n",
       "    </tr>\n",
       "    <tr>\n",
       "      <th>...</th>\n",
       "      <td>...</td>\n",
       "      <td>...</td>\n",
       "      <td>...</td>\n",
       "      <td>...</td>\n",
       "      <td>...</td>\n",
       "      <td>...</td>\n",
       "    </tr>\n",
       "    <tr>\n",
       "      <th>165</th>\n",
       "      <td>172.11</td>\n",
       "      <td>104.23</td>\n",
       "      <td>104.45</td>\n",
       "      <td>5.24</td>\n",
       "      <td>3.58</td>\n",
       "      <td>111.78</td>\n",
       "    </tr>\n",
       "    <tr>\n",
       "      <th>166</th>\n",
       "      <td>173.01</td>\n",
       "      <td>104.59</td>\n",
       "      <td>104.31</td>\n",
       "      <td>5.04</td>\n",
       "      <td>3.05</td>\n",
       "      <td>110.91</td>\n",
       "    </tr>\n",
       "    <tr>\n",
       "      <th>167</th>\n",
       "      <td>172.47</td>\n",
       "      <td>104.27</td>\n",
       "      <td>104.10</td>\n",
       "      <td>4.88</td>\n",
       "      <td>3.33</td>\n",
       "      <td>110.68</td>\n",
       "    </tr>\n",
       "    <tr>\n",
       "      <th>168</th>\n",
       "      <td>171.82</td>\n",
       "      <td>103.97</td>\n",
       "      <td>103.88</td>\n",
       "      <td>4.73</td>\n",
       "      <td>3.55</td>\n",
       "      <td>111.87</td>\n",
       "    </tr>\n",
       "    <tr>\n",
       "      <th>169</th>\n",
       "      <td>171.96</td>\n",
       "      <td>104.00</td>\n",
       "      <td>103.95</td>\n",
       "      <td>5.63</td>\n",
       "      <td>3.26</td>\n",
       "      <td>110.96</td>\n",
       "    </tr>\n",
       "  </tbody>\n",
       "</table>\n",
       "<p>170 rows × 6 columns</p>\n",
       "</div>"
      ],
      "text/plain": [
       "     diagonal  height_left  height_right  margin_low  margin_up  length\n",
       "0      171.81       104.86        104.95        4.52       2.89  112.83\n",
       "1      171.67       103.74        103.70        4.01       2.87  113.29\n",
       "2      171.83       103.76        103.76        4.40       2.88  113.84\n",
       "3      171.80       103.78        103.65        3.73       3.12  113.63\n",
       "4      172.05       103.70        103.75        5.04       2.27  113.55\n",
       "..        ...          ...           ...         ...        ...     ...\n",
       "165    172.11       104.23        104.45        5.24       3.58  111.78\n",
       "166    173.01       104.59        104.31        5.04       3.05  110.91\n",
       "167    172.47       104.27        104.10        4.88       3.33  110.68\n",
       "168    171.82       103.97        103.88        4.73       3.55  111.87\n",
       "169    171.96       104.00        103.95        5.63       3.26  110.96\n",
       "\n",
       "[170 rows x 6 columns]"
      ]
     },
     "execution_count": 75,
     "metadata": {},
     "output_type": "execute_result"
    }
   ],
   "source": [
    "# préparation des données pour le clustering\n",
    "X = df_pca\n",
    "X"
   ]
  },
  {
   "cell_type": "code",
   "execution_count": 76,
   "id": "494cd95e",
   "metadata": {},
   "outputs": [],
   "source": [
    "#Réduire et centre \n",
    "X_scaled = preprocessing.StandardScaler().fit_transform(X)\n"
   ]
  },
  {
   "cell_type": "code",
   "execution_count": 77,
   "id": "1fd4d4ef",
   "metadata": {},
   "outputs": [],
   "source": [
    "# Clustering par K-means\n",
    "km = KMeans(n_clusters=n_clust)\n",
    "km.fit(X_scaled)\n",
    "\n",
    "\n",
    "# Récupération des clusters attribués à chaque individu\n",
    "clusters = km.labels_\n",
    "\n"
   ]
  },
  {
   "cell_type": "code",
   "execution_count": 78,
   "id": "1c4e2b87",
   "metadata": {},
   "outputs": [
    {
     "data": {
      "image/png": "[encoded data removed]",
      "text/plain": [
       "<Figure size 432x288 with 1 Axes>"
      ]
     },
     "metadata": {
      "needs_background": "light"
     },
     "output_type": "display_data"
    }
   ],
   "source": [
    "\n",
    "# Affichage du clustering par projection des individus sur le premier plan factoriel\n",
    "pca = decomposition.PCA(n_components=2).fit(X_scaled)\n",
    "X_projected = pca.transform(X_scaled)\n",
    "plt.scatter(X_projected[:, 0], X_projected[:, 1], c=clusters.astype(np.float), cmap = 'jet', alpha=.2)\n",
    "plt.title(\"Projection des {} individus sur le 1e plan factoriel\".format(X_projected.shape[0]))\n",
    "plt.show(block=False)"
   ]
  },
  {
   "cell_type": "code",
   "execution_count": 79,
   "id": "3cd6fa1b",
   "metadata": {},
   "outputs": [
    {
     "data": {
      "image/png": "[encoded data removed]",
      "text/plain": [
       "<Figure size 504x432 with 1 Axes>"
      ]
     },
     "metadata": {
      "needs_background": "light"
     },
     "output_type": "display_data"
    }
   ],
   "source": [
    "display_factorial_planes(X_projected, 2, pca, [(0,1)], illustrative_var =clusters, alpha = 0.8)"
   ]
  },
  {
   "cell_type": "code",
   "execution_count": 80,
   "id": "6a45feeb",
   "metadata": {},
   "outputs": [
    {
     "data": {
      "text/plain": [
       "array([0, 1, 1, 1, 1, 0, 1, 1, 1, 0, 1, 1, 1, 1, 1, 1, 1, 1, 1, 1, 1, 1,\n",
       "       1, 1, 1, 1, 1, 1, 1, 1, 1, 1, 1, 1, 1, 1, 1, 1, 1, 1, 1, 1, 1, 1,\n",
       "       1, 1, 1, 1, 1, 1, 1, 1, 1, 1, 1, 1, 1, 1, 1, 1, 1, 1, 1, 1, 1, 0,\n",
       "       1, 1, 1, 0, 1, 1, 1, 1, 1, 1, 1, 1, 1, 1, 1, 1, 1, 1, 0, 1, 1, 1,\n",
       "       1, 1, 1, 1, 1, 1, 1, 1, 0, 1, 1, 1, 0, 0, 0, 0, 0, 0, 0, 0, 0, 0,\n",
       "       0, 0, 0, 0, 0, 0, 0, 0, 0, 0, 0, 0, 0, 0, 0, 0, 0, 0, 0, 0, 0, 0,\n",
       "       0, 0, 0, 0, 0, 0, 0, 0, 0, 0, 0, 0, 1, 0, 0, 0, 0, 0, 0, 0, 0, 0,\n",
       "       0, 0, 0, 0, 0, 0, 0, 0, 0, 0, 0, 0, 0, 0, 0, 0], dtype=int32)"
      ]
     },
     "execution_count": 80,
     "metadata": {},
     "output_type": "execute_result"
    }
   ],
   "source": [
    "clusters"
   ]
  },
  {
   "cell_type": "markdown",
   "id": "25bceb06",
   "metadata": {},
   "source": [
    "## Estimation du nombre optimal de clusters \n",
    "\n",
    "## La méthode Elbow\n",
    "\n",
    "est une méthode empirique permettant de trouver le nombre optimal de clusters pour un ensemble de données. Dans cette méthode, nous choisissons une plage de valeurs candidates de k, puis appliquons le clustering K-Means en utilisant chacune des valeurs de k. Trouvez la distance moyenne de chaque point d'un cluster à son centre de gravité et représentez-la dans un tracé. Choisissez la valeur de k, où la distance moyenne tombe soudainement ."
   ]
  },
  {
   "cell_type": "code",
   "execution_count": 81,
   "id": "85112e73",
   "metadata": {},
   "outputs": [],
   "source": [
    "from sklearn.cluster import KMeans\n",
    "from sklearn import metrics\n",
    "from scipy.spatial.distance import cdist\n",
    "import numpy as np\n",
    "import matplotlib.pyplot as plt"
   ]
  },
  {
   "cell_type": "code",
   "execution_count": 82,
   "id": "f88d886b",
   "metadata": {},
   "outputs": [],
   "source": [
    "distortions = []#la moyenne des distances au carré des centres de cluster des clusters respectif\n",
    "inertias = []# distance moyenne de chaque point d 1 cluster / à son centre de gravité\n",
    "mapping1 = {}\n",
    "mapping2 = {}\n",
    "K = range(1, 10)\n",
    "\n",
    "for k in K:\n",
    "    # Building and fitting the model\n",
    "    kmeanModel = KMeans(n_clusters=k)\n",
    "    kmeanModel.fit(X_projected)\n",
    " \n",
    "    distortions.append(sum(np.min(cdist(X_projected, kmeanModel.cluster_centers_,\n",
    "                                        'euclidean'), axis=1)) / X_projected.shape[0])\n",
    "    inertias.append(kmeanModel.inertia_)\n",
    " \n",
    "    mapping1[k] = sum(np.min(cdist(X_projected, kmeanModel.cluster_centers_,\n",
    "                                   'euclidean'), axis=1)) / X_projected.shape[0]\n",
    "    mapping2[k] = kmeanModel.inertia_\n",
    "\n"
   ]
  },
  {
   "cell_type": "code",
   "execution_count": 83,
   "id": "870d63e5",
   "metadata": {},
   "outputs": [
    {
     "name": "stdout",
     "output_type": "stream",
     "text": [
      "1 : 1.9340684356049578\n",
      "2 : 1.1789932690462297\n",
      "3 : 0.9465262988852389\n",
      "4 : 0.8346717871040221\n",
      "5 : 0.7261069023455314\n",
      "6 : 0.6697153667082371\n",
      "7 : 0.6287805081879253\n",
      "8 : 0.5923766013975854\n",
      "9 : 0.5547927472189729\n"
     ]
    }
   ],
   "source": [
    "for key, val in mapping1.items():\n",
    "    print(f'{key} : {val}')"
   ]
  },
  {
   "cell_type": "code",
   "execution_count": 85,
   "id": "9873677f",
   "metadata": {},
   "outputs": [
    {
     "data": {
      "image/png": "[encoded data removed]",
      "text/plain": [
       "<Figure size 432x288 with 1 Axes>"
      ]
     },
     "metadata": {
      "needs_background": "light"
     },
     "output_type": "display_data"
    }
   ],
   "source": [
    "plt.plot(K, distortions, 'bx-')\n",
    "plt.xlabel('Values of K')\n",
    "plt.ylabel('Distortion')\n",
    "plt.title('La methode du coude en utilisant le moyenne des distances au carrée')\n",
    "plt.savefig('La methode du coude en utilisant le moyenne des distances au carrée')\n",
    "plt.show()"
   ]
  },
  {
   "cell_type": "markdown",
   "id": "41102fd0",
   "metadata": {},
   "source": [
    "## La méthode silhouette\n",
    "est également une méthode pour trouver le nombre optimal de grappes et l'interprétation et la validation de la cohérence au sein des grappes de données. La méthode de silhouette calcule les coefficients de silhouette de chaque point qui mesurent à quel point un point est similaire à son propre cluster par rapport aux autres clusters. en fournissant une représentation graphique succincte de la façon dont chaque objet a été classé.\n",
    "\n",
    "Calculez les coefficients de silhouette pour chacun des points et faites la moyenne de tous les échantillons pour obtenir le score de silhouette .\n",
    "La valeur de la silhouette est une mesure de la similitude d'un objet avec son propre cluster ( cohésion ) par rapport à d'autres clusters ( séparation ). La valeur de la silhouette est comprise entre [1, -1], où une valeur élevée indique que l'objet est bien adapté à son propre cluster et mal adapté aux clusters voisins. Si la plupart des objets ont une valeur élevée, la configuration de clustering est appropriée. Si de nombreux points ont une valeur faible ou négative, la configuration de clustering peut avoir trop ou trop peu de clusters.                                                                                                            Calcul du coefficient de silhoutte:\n",
    "Étapes pour trouver le coefficient de silhouette d'un i'ième point:\n",
    "\n",
    "Calculer a (i): la distance moyenne de ce point avec tous les autres points dans les mêmes clusters.\n",
    "Calculer b (i): la distance moyenne de ce point avec tous les points du cluster le plus proche de son cluster.\n",
    "Calculez s (i) - coefficient de silhouette ou i'ème point en utilisant la formule ci-dessous.\n"
   ]
  },
  {
   "cell_type": "code",
   "execution_count": 86,
   "id": "9d2392b0",
   "metadata": {},
   "outputs": [
    {
     "name": "stdout",
     "output_type": "stream",
     "text": [
      "Silhouette Score: 0.482\n"
     ]
    }
   ],
   "source": [
    "# CALCUL DE LA SILHOUETTE AVEC 3 CLUSTERS\n",
    "from sklearn.metrics import silhouette_score\n",
    "# Instantiate the KMeans models\n",
    "#\n",
    "km = KMeans(n_clusters=3, random_state=42)\n",
    "#\n",
    "# Fit the KMeans model\n",
    "#\n",
    "km.fit_predict(X_projected)\n",
    "#\n",
    "# Calculate Silhoutte Score\n",
    "#\n",
    "score = silhouette_score(X_projected, km.labels_, metric='euclidean')\n",
    "#\n",
    "# Print the score\n",
    "#\n",
    "print('Silhouette Score: %.3f' % score)"
   ]
  },
  {
   "cell_type": "code",
   "execution_count": 164,
   "id": "38f9c0e5",
   "metadata": {},
   "outputs": [
    {
     "name": "stdout",
     "output_type": "stream",
     "text": [
      "Requirement already satisfied: yellowbrick in /Users/moradledmaoui/opt/anaconda3/lib/python3.8/site-packages (1.3.post1)\n",
      "Requirement already satisfied: cycler>=0.10.0 in /Users/moradledmaoui/opt/anaconda3/lib/python3.8/site-packages (from yellowbrick) (0.10.0)\n",
      "Requirement already satisfied: numpy<1.20,>=1.16.0 in /Users/moradledmaoui/opt/anaconda3/lib/python3.8/site-packages (from yellowbrick) (1.19.5)\n",
      "Requirement already satisfied: scipy>=1.0.0 in /Users/moradledmaoui/opt/anaconda3/lib/python3.8/site-packages (from yellowbrick) (1.6.2)\n",
      "Requirement already satisfied: scikit-learn>=0.20 in /Users/moradledmaoui/opt/anaconda3/lib/python3.8/site-packages (from yellowbrick) (0.24.1)\n",
      "Requirement already satisfied: matplotlib!=3.0.0,>=2.0.2 in /Users/moradledmaoui/opt/anaconda3/lib/python3.8/site-packages (from yellowbrick) (3.3.4)\n",
      "Requirement already satisfied: six in /Users/moradledmaoui/opt/anaconda3/lib/python3.8/site-packages (from cycler>=0.10.0->yellowbrick) (1.15.0)\n",
      "Requirement already satisfied: pillow>=6.2.0 in /Users/moradledmaoui/opt/anaconda3/lib/python3.8/site-packages (from matplotlib!=3.0.0,>=2.0.2->yellowbrick) (8.2.0)\n",
      "Requirement already satisfied: kiwisolver>=1.0.1 in /Users/moradledmaoui/opt/anaconda3/lib/python3.8/site-packages (from matplotlib!=3.0.0,>=2.0.2->yellowbrick) (1.3.1)\n",
      "Requirement already satisfied: python-dateutil>=2.1 in /Users/moradledmaoui/opt/anaconda3/lib/python3.8/site-packages (from matplotlib!=3.0.0,>=2.0.2->yellowbrick) (2.8.1)\n",
      "Requirement already satisfied: pyparsing!=2.0.4,!=2.1.2,!=2.1.6,>=2.0.3 in /Users/moradledmaoui/opt/anaconda3/lib/python3.8/site-packages (from matplotlib!=3.0.0,>=2.0.2->yellowbrick) (2.4.7)\n",
      "Requirement already satisfied: threadpoolctl>=2.0.0 in /Users/moradledmaoui/opt/anaconda3/lib/python3.8/site-packages (from scikit-learn>=0.20->yellowbrick) (2.1.0)\n",
      "Requirement already satisfied: joblib>=0.11 in /Users/moradledmaoui/opt/anaconda3/lib/python3.8/site-packages (from scikit-learn>=0.20->yellowbrick) (1.0.1)\n"
     ]
    }
   ],
   "source": [
    "# instalation yelowbrick\n",
    "! pip install yellowbrick"
   ]
  },
  {
   "cell_type": "code",
   "execution_count": 87,
   "id": "7dbbada9",
   "metadata": {},
   "outputs": [
    {
     "name": "stdout",
     "output_type": "stream",
     "text": [
      "0.5044073076758973\n",
      "0.47798323501637857\n",
      "0.3983837582355656\n",
      "0.3831511232990719\n"
     ]
    },
    {
     "data": {
      "image/png": "[encoded data removed]",
      "text/plain": [
       "<Figure size 1080x576 with 4 Axes>"
      ]
     },
     "metadata": {},
     "output_type": "display_data"
    }
   ],
   "source": [
    "from yellowbrick.cluster import SilhouetteVisualizer\n",
    "\n",
    "fig, ax = plt.subplots(2, 2, figsize=(15,8))\n",
    "for i in [2, 3, 4, 5]:\n",
    "    '''\n",
    "    Create KMeans instance for different number of clusters\n",
    "    '''\n",
    "    km = KMeans(n_clusters=i).fit(X_projected)\n",
    "    \n",
    "    q, mod = divmod(i, 2)\n",
    "    score = silhouette_score(X_projected, km.labels_, metric='euclidean')\n",
    "    '''\n",
    "    Create SilhouetteVisualizer instance with KMeans instance\n",
    "    Fit the visualizer\n",
    "    '''\n",
    "    visualizer = SilhouetteVisualizer(km, colors='yellowbrick', ax=ax[q-1][mod])\n",
    "    visualizer.fit(X_projected)\n",
    "    print(score)\n",
    " "
   ]
  },
  {
   "cell_type": "markdown",
   "id": "d69897e6",
   "metadata": {},
   "source": [
    "# l'analyse de la silhouette\n",
    "\n",
    "2 CLUSTERS\n",
    "\n",
    "\n"
   ]
  },
  {
   "cell_type": "markdown",
   "id": "77d9f04f",
   "metadata": {},
   "source": [
    "## LA REGRESSION LOGISTIQUE "
   ]
  },
  {
   "cell_type": "code",
   "execution_count": 88,
   "id": "7392eb15",
   "metadata": {},
   "outputs": [
    {
     "data": {
      "text/plain": [
       "1    100\n",
       "0     70\n",
       "Name: is_genuine, dtype: int64"
      ]
     },
     "execution_count": 88,
     "metadata": {},
     "output_type": "execute_result"
    }
   ],
   "source": [
    "df['is_genuine'].value_counts()"
   ]
  },
  {
   "cell_type": "code",
   "execution_count": 89,
   "id": "80e4b161",
   "metadata": {},
   "outputs": [],
   "source": [
    "# reequilibrer le dataset \n",
    "df_vrai =df[df['is_genuine']==1]\n",
    "df_faux =df[df['is_genuine']==0]"
   ]
  },
  {
   "cell_type": "code",
   "execution_count": 90,
   "id": "a38fad3c",
   "metadata": {},
   "outputs": [
    {
     "data": {
      "text/plain": [
       "is_genuine      100\n",
       "diagonal        100\n",
       "height_left     100\n",
       "height_right    100\n",
       "margin_low      100\n",
       "margin_up       100\n",
       "length          100\n",
       "dtype: int64"
      ]
     },
     "execution_count": 90,
     "metadata": {},
     "output_type": "execute_result"
    }
   ],
   "source": [
    "df_vrai.count()"
   ]
  },
  {
   "cell_type": "code",
   "execution_count": 91,
   "id": "20d07393",
   "metadata": {},
   "outputs": [
    {
     "data": {
      "text/plain": [
       "is_genuine      70\n",
       "diagonal        70\n",
       "height_left     70\n",
       "height_right    70\n",
       "margin_low      70\n",
       "margin_up       70\n",
       "length          70\n",
       "dtype: int64"
      ]
     },
     "execution_count": 91,
     "metadata": {},
     "output_type": "execute_result"
    }
   ],
   "source": [
    "df_faux.count()"
   ]
  },
  {
   "cell_type": "code",
   "execution_count": 92,
   "id": "98202f81",
   "metadata": {},
   "outputs": [],
   "source": [
    "# je prend 70 vrais  de manière aléatoire\n",
    "df_vrai_under = df_vrai.sample(70)"
   ]
  },
  {
   "cell_type": "code",
   "execution_count": 93,
   "id": "0df67468",
   "metadata": {},
   "outputs": [
    {
     "data": {
      "text/plain": [
       "is_genuine      70\n",
       "diagonal        70\n",
       "height_left     70\n",
       "height_right    70\n",
       "margin_low      70\n",
       "margin_up       70\n",
       "length          70\n",
       "dtype: int64"
      ]
     },
     "execution_count": 93,
     "metadata": {},
     "output_type": "execute_result"
    }
   ],
   "source": [
    "df_vrai_under.count()"
   ]
  },
  {
   "cell_type": "code",
   "execution_count": 94,
   "id": "96502ba3",
   "metadata": {},
   "outputs": [
    {
     "data": {
      "text/plain": [
       "(140, 7)"
      ]
     },
     "execution_count": 94,
     "metadata": {},
     "output_type": "execute_result"
    }
   ],
   "source": [
    "df_logistic = pd.concat([df_vrai_under,df_faux])\n",
    "df_logistic.shape"
   ]
  },
  {
   "cell_type": "code",
   "execution_count": 95,
   "id": "825fb81e",
   "metadata": {},
   "outputs": [
    {
     "data": {
      "text/html": [
       "<div>\n",
       "<style scoped>\n",
       "    .dataframe tbody tr th:only-of-type {\n",
       "        vertical-align: middle;\n",
       "    }\n",
       "\n",
       "    .dataframe tbody tr th {\n",
       "        vertical-align: top;\n",
       "    }\n",
       "\n",
       "    .dataframe thead th {\n",
       "        text-align: right;\n",
       "    }\n",
       "</style>\n",
       "<table border=\"1\" class=\"dataframe\">\n",
       "  <thead>\n",
       "    <tr style=\"text-align: right;\">\n",
       "      <th></th>\n",
       "      <th>is_genuine</th>\n",
       "      <th>diagonal</th>\n",
       "      <th>height_left</th>\n",
       "      <th>height_right</th>\n",
       "      <th>margin_low</th>\n",
       "      <th>margin_up</th>\n",
       "      <th>length</th>\n",
       "    </tr>\n",
       "  </thead>\n",
       "  <tbody>\n",
       "    <tr>\n",
       "      <th>40</th>\n",
       "      <td>1</td>\n",
       "      <td>171.51</td>\n",
       "      <td>103.85</td>\n",
       "      <td>103.36</td>\n",
       "      <td>4.49</td>\n",
       "      <td>2.80</td>\n",
       "      <td>113.87</td>\n",
       "    </tr>\n",
       "    <tr>\n",
       "      <th>34</th>\n",
       "      <td>1</td>\n",
       "      <td>172.75</td>\n",
       "      <td>104.33</td>\n",
       "      <td>103.97</td>\n",
       "      <td>4.34</td>\n",
       "      <td>3.14</td>\n",
       "      <td>113.12</td>\n",
       "    </tr>\n",
       "    <tr>\n",
       "      <th>9</th>\n",
       "      <td>1</td>\n",
       "      <td>172.14</td>\n",
       "      <td>104.34</td>\n",
       "      <td>104.20</td>\n",
       "      <td>4.63</td>\n",
       "      <td>3.02</td>\n",
       "      <td>112.47</td>\n",
       "    </tr>\n",
       "    <tr>\n",
       "      <th>22</th>\n",
       "      <td>1</td>\n",
       "      <td>172.24</td>\n",
       "      <td>104.51</td>\n",
       "      <td>103.97</td>\n",
       "      <td>4.18</td>\n",
       "      <td>3.22</td>\n",
       "      <td>113.21</td>\n",
       "    </tr>\n",
       "    <tr>\n",
       "      <th>73</th>\n",
       "      <td>1</td>\n",
       "      <td>171.52</td>\n",
       "      <td>103.92</td>\n",
       "      <td>103.66</td>\n",
       "      <td>3.81</td>\n",
       "      <td>3.15</td>\n",
       "      <td>113.54</td>\n",
       "    </tr>\n",
       "  </tbody>\n",
       "</table>\n",
       "</div>"
      ],
      "text/plain": [
       "    is_genuine  diagonal  height_left  height_right  margin_low  margin_up  \\\n",
       "40           1    171.51       103.85        103.36        4.49       2.80   \n",
       "34           1    172.75       104.33        103.97        4.34       3.14   \n",
       "9            1    172.14       104.34        104.20        4.63       3.02   \n",
       "22           1    172.24       104.51        103.97        4.18       3.22   \n",
       "73           1    171.52       103.92        103.66        3.81       3.15   \n",
       "\n",
       "    length  \n",
       "40  113.87  \n",
       "34  113.12  \n",
       "9   112.47  \n",
       "22  113.21  \n",
       "73  113.54  "
      ]
     },
     "execution_count": 95,
     "metadata": {},
     "output_type": "execute_result"
    }
   ],
   "source": [
    "df_logistic.head()"
   ]
  },
  {
   "cell_type": "code",
   "execution_count": 96,
   "id": "a00f3a39",
   "metadata": {},
   "outputs": [],
   "source": [
    "#on supprime les variables corrélées\n",
    "df_logistic = df_logistic.drop('height_left', axis = 1)"
   ]
  },
  {
   "cell_type": "code",
   "execution_count": 97,
   "id": "deac46af",
   "metadata": {},
   "outputs": [],
   "source": [
    "from sklearn.linear_model import LogisticRegression\n",
    "# on définit x et y\n",
    "y = df_logistic['is_genuine']\n",
    "# on ne prend que les colonnes quantitatives\n",
    "x = df_logistic.copy()"
   ]
  },
  {
   "cell_type": "code",
   "execution_count": 98,
   "id": "47cacd78",
   "metadata": {},
   "outputs": [],
   "source": [
    "del x['is_genuine']"
   ]
  },
  {
   "cell_type": "code",
   "execution_count": 99,
   "id": "692d5112",
   "metadata": {},
   "outputs": [
    {
     "data": {
      "text/html": [
       "<div>\n",
       "<style scoped>\n",
       "    .dataframe tbody tr th:only-of-type {\n",
       "        vertical-align: middle;\n",
       "    }\n",
       "\n",
       "    .dataframe tbody tr th {\n",
       "        vertical-align: top;\n",
       "    }\n",
       "\n",
       "    .dataframe thead th {\n",
       "        text-align: right;\n",
       "    }\n",
       "</style>\n",
       "<table border=\"1\" class=\"dataframe\">\n",
       "  <thead>\n",
       "    <tr style=\"text-align: right;\">\n",
       "      <th></th>\n",
       "      <th>diagonal</th>\n",
       "      <th>height_right</th>\n",
       "      <th>margin_low</th>\n",
       "      <th>margin_up</th>\n",
       "      <th>length</th>\n",
       "    </tr>\n",
       "  </thead>\n",
       "  <tbody>\n",
       "    <tr>\n",
       "      <th>40</th>\n",
       "      <td>171.51</td>\n",
       "      <td>103.36</td>\n",
       "      <td>4.49</td>\n",
       "      <td>2.80</td>\n",
       "      <td>113.87</td>\n",
       "    </tr>\n",
       "    <tr>\n",
       "      <th>34</th>\n",
       "      <td>172.75</td>\n",
       "      <td>103.97</td>\n",
       "      <td>4.34</td>\n",
       "      <td>3.14</td>\n",
       "      <td>113.12</td>\n",
       "    </tr>\n",
       "    <tr>\n",
       "      <th>9</th>\n",
       "      <td>172.14</td>\n",
       "      <td>104.20</td>\n",
       "      <td>4.63</td>\n",
       "      <td>3.02</td>\n",
       "      <td>112.47</td>\n",
       "    </tr>\n",
       "    <tr>\n",
       "      <th>22</th>\n",
       "      <td>172.24</td>\n",
       "      <td>103.97</td>\n",
       "      <td>4.18</td>\n",
       "      <td>3.22</td>\n",
       "      <td>113.21</td>\n",
       "    </tr>\n",
       "    <tr>\n",
       "      <th>73</th>\n",
       "      <td>171.52</td>\n",
       "      <td>103.66</td>\n",
       "      <td>3.81</td>\n",
       "      <td>3.15</td>\n",
       "      <td>113.54</td>\n",
       "    </tr>\n",
       "    <tr>\n",
       "      <th>...</th>\n",
       "      <td>...</td>\n",
       "      <td>...</td>\n",
       "      <td>...</td>\n",
       "      <td>...</td>\n",
       "      <td>...</td>\n",
       "    </tr>\n",
       "    <tr>\n",
       "      <th>165</th>\n",
       "      <td>172.11</td>\n",
       "      <td>104.45</td>\n",
       "      <td>5.24</td>\n",
       "      <td>3.58</td>\n",
       "      <td>111.78</td>\n",
       "    </tr>\n",
       "    <tr>\n",
       "      <th>166</th>\n",
       "      <td>173.01</td>\n",
       "      <td>104.31</td>\n",
       "      <td>5.04</td>\n",
       "      <td>3.05</td>\n",
       "      <td>110.91</td>\n",
       "    </tr>\n",
       "    <tr>\n",
       "      <th>167</th>\n",
       "      <td>172.47</td>\n",
       "      <td>104.10</td>\n",
       "      <td>4.88</td>\n",
       "      <td>3.33</td>\n",
       "      <td>110.68</td>\n",
       "    </tr>\n",
       "    <tr>\n",
       "      <th>168</th>\n",
       "      <td>171.82</td>\n",
       "      <td>103.88</td>\n",
       "      <td>4.73</td>\n",
       "      <td>3.55</td>\n",
       "      <td>111.87</td>\n",
       "    </tr>\n",
       "    <tr>\n",
       "      <th>169</th>\n",
       "      <td>171.96</td>\n",
       "      <td>103.95</td>\n",
       "      <td>5.63</td>\n",
       "      <td>3.26</td>\n",
       "      <td>110.96</td>\n",
       "    </tr>\n",
       "  </tbody>\n",
       "</table>\n",
       "<p>140 rows × 5 columns</p>\n",
       "</div>"
      ],
      "text/plain": [
       "     diagonal  height_right  margin_low  margin_up  length\n",
       "40     171.51        103.36        4.49       2.80  113.87\n",
       "34     172.75        103.97        4.34       3.14  113.12\n",
       "9      172.14        104.20        4.63       3.02  112.47\n",
       "22     172.24        103.97        4.18       3.22  113.21\n",
       "73     171.52        103.66        3.81       3.15  113.54\n",
       "..        ...           ...         ...        ...     ...\n",
       "165    172.11        104.45        5.24       3.58  111.78\n",
       "166    173.01        104.31        5.04       3.05  110.91\n",
       "167    172.47        104.10        4.88       3.33  110.68\n",
       "168    171.82        103.88        4.73       3.55  111.87\n",
       "169    171.96        103.95        5.63       3.26  110.96\n",
       "\n",
       "[140 rows x 5 columns]"
      ]
     },
     "execution_count": 99,
     "metadata": {},
     "output_type": "execute_result"
    }
   ],
   "source": [
    "x"
   ]
  },
  {
   "cell_type": "code",
   "execution_count": 100,
   "id": "72317637",
   "metadata": {},
   "outputs": [],
   "source": [
    "# on split en test et train \n",
    "from sklearn.model_selection import train_test_split\n",
    "x_train, x_test, y_train, y_test = train_test_split(x, y, test_size=0.25, random_state=0)"
   ]
  },
  {
   "cell_type": "code",
   "execution_count": 101,
   "id": "235f56f5",
   "metadata": {},
   "outputs": [
    {
     "data": {
      "text/plain": [
       "113    0\n",
       "81     1\n",
       "136    0\n",
       "119    0\n",
       "108    0\n",
       "      ..\n",
       "6      1\n",
       "133    0\n",
       "24     1\n",
       "147    0\n",
       "21     1\n",
       "Name: is_genuine, Length: 105, dtype: int64"
      ]
     },
     "execution_count": 101,
     "metadata": {},
     "output_type": "execute_result"
    }
   ],
   "source": [
    "#x_train\n",
    "y_train"
   ]
  },
  {
   "cell_type": "code",
   "execution_count": 102,
   "id": "12255085",
   "metadata": {},
   "outputs": [
    {
     "data": {
      "text/plain": [
       "LogisticRegression()"
      ]
     },
     "execution_count": 102,
     "metadata": {},
     "output_type": "execute_result"
    }
   ],
   "source": [
    "# on instancie le modele\n",
    "logisticRegr = LogisticRegression()\n",
    "\n",
    "#on entraine\n",
    "logisticRegr.fit(x_train, y_train)"
   ]
  },
  {
   "cell_type": "code",
   "execution_count": 103,
   "id": "6d4af8f6",
   "metadata": {},
   "outputs": [
    {
     "data": {
      "text/plain": [
       "diagonal        171.62\n",
       "height_right    103.58\n",
       "margin_low        3.95\n",
       "margin_up         3.00\n",
       "length          113.10\n",
       "Name: 54, dtype: float64"
      ]
     },
     "execution_count": 103,
     "metadata": {},
     "output_type": "execute_result"
    }
   ],
   "source": [
    "x_test.iloc[0]"
   ]
  },
  {
   "cell_type": "code",
   "execution_count": 104,
   "id": "d19253c7",
   "metadata": {},
   "outputs": [],
   "source": [
    " x_test = x_test.to_numpy()"
   ]
  },
  {
   "cell_type": "code",
   "execution_count": 105,
   "id": "fb45731a",
   "metadata": {},
   "outputs": [
    {
     "data": {
      "text/plain": [
       "array([1])"
      ]
     },
     "execution_count": 105,
     "metadata": {},
     "output_type": "execute_result"
    }
   ],
   "source": [
    "# Predict f pour une observation \n",
    "logisticRegr.predict(x_test[0].reshape(1,-1))"
   ]
  },
  {
   "cell_type": "code",
   "execution_count": 106,
   "id": "19450401",
   "metadata": {},
   "outputs": [
    {
     "name": "stdout",
     "output_type": "stream",
     "text": [
      "0.9714285714285714\n"
     ]
    }
   ],
   "source": [
    "#mesure de la performance \n",
    "#  accuracy DU model\n",
    "score = logisticRegr.score(x_test, y_test)\n",
    "print(score)\n"
   ]
  },
  {
   "cell_type": "code",
   "execution_count": 107,
   "id": "6e10d20c",
   "metadata": {},
   "outputs": [
    {
     "data": {
      "text/plain": [
       "array([1, 1, 1, 1, 0, 1, 0, 0, 0, 1, 0, 1, 1, 0, 0, 0, 0, 0, 1, 0, 0, 1,\n",
       "       0, 1, 0, 1, 1, 0, 1, 1, 1, 1, 0, 1, 0])"
      ]
     },
     "execution_count": 107,
     "metadata": {},
     "output_type": "execute_result"
    }
   ],
   "source": [
    "#on fait les prédictions pour tout le dataset de test\n",
    "predictions = logisticRegr.predict(x_test)\n",
    "predictions"
   ]
  },
  {
   "cell_type": "code",
   "execution_count": 108,
   "id": "3a074ad5",
   "metadata": {},
   "outputs": [
    {
     "name": "stdout",
     "output_type": "stream",
     "text": [
      "[[16  0]\n",
      " [ 1 18]]\n"
     ]
    }
   ],
   "source": [
    "#Matrice de confusion \n",
    "cm = metrics.confusion_matrix(y_test, predictions)\n",
    "print(cm)"
   ]
  },
  {
   "cell_type": "code",
   "execution_count": 109,
   "id": "f39bfafd",
   "metadata": {},
   "outputs": [
    {
     "data": {
      "image/png": "[encoded data removed]",
      "text/plain": [
       "<Figure size 360x288 with 2 Axes>"
      ]
     },
     "metadata": {},
     "output_type": "display_data"
    }
   ],
   "source": [
    "#avec seaborn\n",
    "df_cm = pd.DataFrame(cm)\n",
    "df_cm.head()\n",
    "plt.figure(figsize=(5,4))\n",
    "sns.heatmap(df_cm, annot=True, annot_kws={\"size\": 16}) # font size\n",
    "\n",
    "plt.show()"
   ]
  },
  {
   "cell_type": "markdown",
   "id": "ba75390b",
   "metadata": {},
   "source": [
    "## ROC CURVE\n",
    "\n",
    "\n",
    "False Positive: predit un evenement alors qu'il n'y a pas d'évènement.\n",
    "False Negative: prédit qu'il n'y a pas d'évènement alors qu'il y a un évènement.\n",
    "\n",
    "Le true positive rate determine à quel point le model est bon pour prédire les positifs \n",
    "True Positive Rate = True Positives / (True Positives + False Negatives)\n",
    "\n",
    "Le faux positif rate predit combien de positive sont predits alors qu'en fait ce sont des negatif \n",
    "False Positive Rate = False Positives / (False Positives + True Negatives)\n"
   ]
  },
  {
   "cell_type": "code",
   "execution_count": 110,
   "id": "ca89fbcb",
   "metadata": {},
   "outputs": [
    {
     "data": {
      "text/plain": [
       "array([[2.12057802e-02, 9.78794220e-01],\n",
       "       [1.09723033e-01, 8.90276967e-01],\n",
       "       [1.40103139e-01, 8.59896861e-01],\n",
       "       [6.77622303e-02, 9.32237770e-01],\n",
       "       [9.88164783e-01, 1.18352173e-02],\n",
       "       [3.97663549e-02, 9.60233645e-01],\n",
       "       [9.85020494e-01, 1.49795060e-02],\n",
       "       [9.89607476e-01, 1.03925244e-02],\n",
       "       [9.26415964e-01, 7.35840360e-02],\n",
       "       [6.16262339e-03, 9.93837377e-01],\n",
       "       [9.38945806e-01, 6.10541937e-02],\n",
       "       [2.63426956e-01, 7.36573044e-01],\n",
       "       [3.50863440e-02, 9.64913656e-01],\n",
       "       [7.62018412e-01, 2.37981588e-01],\n",
       "       [9.99096511e-01, 9.03489071e-04],\n",
       "       [9.62446799e-01, 3.75532005e-02],\n",
       "       [8.64619494e-01, 1.35380506e-01],\n",
       "       [9.68858441e-01, 3.11415592e-02],\n",
       "       [8.00461293e-02, 9.19953871e-01],\n",
       "       [9.98476096e-01, 1.52390372e-03],\n",
       "       [9.71541111e-01, 2.84588889e-02],\n",
       "       [2.23625794e-01, 7.76374206e-01],\n",
       "       [9.66325698e-01, 3.36743017e-02],\n",
       "       [1.07369325e-01, 8.92630675e-01],\n",
       "       [5.17923623e-01, 4.82076377e-01],\n",
       "       [5.69118386e-02, 9.43088161e-01],\n",
       "       [1.81145694e-02, 9.81885431e-01],\n",
       "       [9.97041461e-01, 2.95853943e-03],\n",
       "       [2.36469418e-02, 9.76353058e-01],\n",
       "       [3.19346374e-02, 9.68065363e-01],\n",
       "       [3.15629064e-02, 9.68437094e-01],\n",
       "       [6.19793724e-03, 9.93802063e-01],\n",
       "       [9.00196190e-01, 9.98038102e-02],\n",
       "       [1.89258888e-02, 9.81074111e-01],\n",
       "       [9.80363841e-01, 1.96361589e-02]])"
      ]
     },
     "execution_count": 110,
     "metadata": {},
     "output_type": "execute_result"
    }
   ],
   "source": [
    "#predictions des probabilités\n",
    "prob = logisticRegr.predict_proba(x_test)\n",
    "prob"
   ]
  },
  {
   "cell_type": "code",
   "execution_count": 113,
   "id": "4c006e91",
   "metadata": {},
   "outputs": [
    {
     "data": {
      "image/png": "[encoded data removed]",
      "text/plain": [
       "<Figure size 576x396 with 1 Axes>"
      ]
     },
     "metadata": {},
     "output_type": "display_data"
    }
   ],
   "source": [
    "\n",
    "#define metrics\n",
    "y_pred_proba = prob [:,1] #prob est une matrice à deux colonnes une pour chaque classe. pour calculer la roc il faut donner la proba de la classe positive\n",
    "\n",
    "\n",
    "fpr, tpr, _ = metrics.roc_curve(y_test,  y_pred_proba)\n",
    "\n",
    "#AUC\n",
    "auc = metrics.roc_auc_score(y_test, y_pred_proba)\n",
    "\n",
    "#create ROC curve\n",
    "plt.plot(fpr,tpr, label = \"AUC = \"+ str(auc))\n",
    "plt.ylabel('True Positive Rate')\n",
    "plt.xlabel('False Positive Rate')\n",
    "plt.legend()\n",
    "plt.show()"
   ]
  },
  {
   "cell_type": "code",
   "execution_count": 116,
   "id": "c93ad309",
   "metadata": {},
   "outputs": [],
   "source": [
    "#programme pour utiliser le modèle\n",
    "def prediction(link):\n",
    "    dfm = pd.read_csv(link)\n",
    "    x_pred= dfm.copy()\n",
    "    x_pred = x_pred.drop(['id','height_left'], axis = 1)\n",
    "    pred = logisticRegr.predict(x_pred)\n",
    "    prob = logisticRegr.predict_proba(x_pred)\n",
    "    dfm['cluster_proba']= prob[:,1]\n",
    "    dfm['cluster_pred']= pred\n",
    "    dfm['résultat']= dfm['cluster_pred'].map({0:'faux',1:'vrai'})\n",
    "    \n",
    "    \n",
    "    return dfm\n",
    " "
   ]
  },
  {
   "cell_type": "code",
   "execution_count": 117,
   "id": "f2f774fa",
   "metadata": {},
   "outputs": [
    {
     "data": {
      "text/html": [
       "<div>\n",
       "<style scoped>\n",
       "    .dataframe tbody tr th:only-of-type {\n",
       "        vertical-align: middle;\n",
       "    }\n",
       "\n",
       "    .dataframe tbody tr th {\n",
       "        vertical-align: top;\n",
       "    }\n",
       "\n",
       "    .dataframe thead th {\n",
       "        text-align: right;\n",
       "    }\n",
       "</style>\n",
       "<table border=\"1\" class=\"dataframe\">\n",
       "  <thead>\n",
       "    <tr style=\"text-align: right;\">\n",
       "      <th></th>\n",
       "      <th>diagonal</th>\n",
       "      <th>height_left</th>\n",
       "      <th>height_right</th>\n",
       "      <th>margin_low</th>\n",
       "      <th>margin_up</th>\n",
       "      <th>length</th>\n",
       "      <th>id</th>\n",
       "      <th>cluster_proba</th>\n",
       "      <th>cluster_pred</th>\n",
       "      <th>résultat</th>\n",
       "    </tr>\n",
       "  </thead>\n",
       "  <tbody>\n",
       "    <tr>\n",
       "      <th>0</th>\n",
       "      <td>171.76</td>\n",
       "      <td>104.01</td>\n",
       "      <td>103.54</td>\n",
       "      <td>5.21</td>\n",
       "      <td>3.30</td>\n",
       "      <td>111.42</td>\n",
       "      <td>A_1</td>\n",
       "      <td>0.049175</td>\n",
       "      <td>0</td>\n",
       "      <td>faux</td>\n",
       "    </tr>\n",
       "    <tr>\n",
       "      <th>1</th>\n",
       "      <td>171.87</td>\n",
       "      <td>104.17</td>\n",
       "      <td>104.13</td>\n",
       "      <td>6.00</td>\n",
       "      <td>3.31</td>\n",
       "      <td>112.09</td>\n",
       "      <td>A_2</td>\n",
       "      <td>0.011843</td>\n",
       "      <td>0</td>\n",
       "      <td>faux</td>\n",
       "    </tr>\n",
       "    <tr>\n",
       "      <th>2</th>\n",
       "      <td>172.00</td>\n",
       "      <td>104.58</td>\n",
       "      <td>104.29</td>\n",
       "      <td>4.99</td>\n",
       "      <td>3.39</td>\n",
       "      <td>111.57</td>\n",
       "      <td>A_3</td>\n",
       "      <td>0.038541</td>\n",
       "      <td>0</td>\n",
       "      <td>faux</td>\n",
       "    </tr>\n",
       "    <tr>\n",
       "      <th>3</th>\n",
       "      <td>172.49</td>\n",
       "      <td>104.55</td>\n",
       "      <td>104.34</td>\n",
       "      <td>4.44</td>\n",
       "      <td>3.03</td>\n",
       "      <td>113.20</td>\n",
       "      <td>A_4</td>\n",
       "      <td>0.812808</td>\n",
       "      <td>1</td>\n",
       "      <td>vrai</td>\n",
       "    </tr>\n",
       "    <tr>\n",
       "      <th>4</th>\n",
       "      <td>171.65</td>\n",
       "      <td>103.63</td>\n",
       "      <td>103.56</td>\n",
       "      <td>3.77</td>\n",
       "      <td>3.16</td>\n",
       "      <td>113.33</td>\n",
       "      <td>A_5</td>\n",
       "      <td>0.989336</td>\n",
       "      <td>1</td>\n",
       "      <td>vrai</td>\n",
       "    </tr>\n",
       "  </tbody>\n",
       "</table>\n",
       "</div>"
      ],
      "text/plain": [
       "   diagonal  height_left  height_right  margin_low  margin_up  length   id  \\\n",
       "0    171.76       104.01        103.54        5.21       3.30  111.42  A_1   \n",
       "1    171.87       104.17        104.13        6.00       3.31  112.09  A_2   \n",
       "2    172.00       104.58        104.29        4.99       3.39  111.57  A_3   \n",
       "3    172.49       104.55        104.34        4.44       3.03  113.20  A_4   \n",
       "4    171.65       103.63        103.56        3.77       3.16  113.33  A_5   \n",
       "\n",
       "   cluster_proba  cluster_pred résultat  \n",
       "0       0.049175             0     faux  \n",
       "1       0.011843             0     faux  \n",
       "2       0.038541             0     faux  \n",
       "3       0.812808             1     vrai  \n",
       "4       0.989336             1     vrai  "
      ]
     },
     "execution_count": 117,
     "metadata": {},
     "output_type": "execute_result"
    }
   ],
   "source": [
    "prediction('example.csv')"
   ]
  },
  {
   "cell_type": "code",
   "execution_count": null,
   "id": "3ae3136e",
   "metadata": {},
   "outputs": [],
   "source": []
  },
  {
   "cell_type": "code",
   "execution_count": null,
   "id": "371613df",
   "metadata": {},
   "outputs": [],
   "source": []
  }
 ],
 "metadata": {
  "kernelspec": {
   "display_name": "Python 3",
   "language": "python",
   "name": "python3"
  },
  "language_info": {
   "codemirror_mode": {
    "name": "ipython",
    "version": 3
   },
   "file_extension": ".py",
   "mimetype": "text/x-python",
   "name": "python",
   "nbconvert_exporter": "python",
   "pygments_lexer": "ipython3",
   "version": "3.8.8"
  }
 },
 "nbformat": 4,
 "nbformat_minor": 5
}
